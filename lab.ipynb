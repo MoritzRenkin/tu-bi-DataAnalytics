{
 "cells": [
  {
   "cell_type": "code",
   "execution_count": 131,
   "metadata": {
    "collapsed": true
   },
   "outputs": [],
   "source": [
    "import numpy as np\n",
    "import pandas as pd"
   ]
  },
  {
   "cell_type": "code",
   "execution_count": 132,
   "outputs": [
    {
     "data": {
      "text/plain": "                         id             dateAdded           dateUpdated  \\\n0      AVpgNzjwLJeJML43Kpxn  2015-10-30T08:59:32Z  2019-04-25T09:08:16Z   \n1      AVpgNzjwLJeJML43Kpxn  2015-10-30T08:59:32Z  2019-04-25T09:08:16Z   \n2      AVpgNzjwLJeJML43Kpxn  2015-10-30T08:59:32Z  2019-04-25T09:08:16Z   \n3      AVpgNzjwLJeJML43Kpxn  2015-10-30T08:59:32Z  2019-04-25T09:08:16Z   \n4      AVpgNzjwLJeJML43Kpxn  2015-10-30T08:59:32Z  2019-04-25T09:08:16Z   \n...                     ...                   ...                   ...   \n28327  AVqkIhxunnc1JgDc3kg_  2017-03-06T14:59:43Z  2019-02-23T02:49:38Z   \n28328  AVqkIhxunnc1JgDc3kg_  2017-03-06T14:59:43Z  2019-02-23T02:49:38Z   \n28329  AVqkIhxunnc1JgDc3kg_  2017-03-06T14:59:43Z  2019-02-23T02:49:38Z   \n28330  AVqkIhxunnc1JgDc3kg_  2017-03-06T14:59:43Z  2019-02-23T02:49:38Z   \n28331  AVqkIhxunnc1JgDc3kg_  2017-03-06T14:59:43Z  2019-02-23T02:49:38Z   \n\n                                                    name  \\\n0      AmazonBasics AAA Performance Alkaline Batterie...   \n1      AmazonBasics AAA Performance Alkaline Batterie...   \n2      AmazonBasics AAA Performance Alkaline Batterie...   \n3      AmazonBasics AAA Performance Alkaline Batterie...   \n4      AmazonBasics AAA Performance Alkaline Batterie...   \n...                                                  ...   \n28327  Fire HD 8 Tablet with Alexa, 8 HD Display, 16 ...   \n28328  Fire HD 8 Tablet with Alexa, 8 HD Display, 16 ...   \n28329  Fire HD 8 Tablet with Alexa, 8 HD Display, 16 ...   \n28330  Fire HD 8 Tablet with Alexa, 8 HD Display, 16 ...   \n28331  Fire HD 8 Tablet with Alexa, 8 HD Display, 16 ...   \n\n                       asins         brand  \\\n0      B00QWO9P0O,B00LH3DMUO  Amazonbasics   \n1      B00QWO9P0O,B00LH3DMUO  Amazonbasics   \n2      B00QWO9P0O,B00LH3DMUO  Amazonbasics   \n3      B00QWO9P0O,B00LH3DMUO  Amazonbasics   \n4      B00QWO9P0O,B00LH3DMUO  Amazonbasics   \n...                      ...           ...   \n28327             B018T075DC        Amazon   \n28328             B018T075DC        Amazon   \n28329             B018T075DC        Amazon   \n28330             B018T075DC        Amazon   \n28331             B018T075DC        Amazon   \n\n                                              categories primaryCategories  \\\n0      AA,AAA,Health,Electronics,Health & Household,C...   Health & Beauty   \n1      AA,AAA,Health,Electronics,Health & Household,C...   Health & Beauty   \n2      AA,AAA,Health,Electronics,Health & Household,C...   Health & Beauty   \n3      AA,AAA,Health,Electronics,Health & Household,C...   Health & Beauty   \n4      AA,AAA,Health,Electronics,Health & Household,C...   Health & Beauty   \n...                                                  ...               ...   \n28327  Fire Tablets,Tablets,All Tablets,Amazon Tablet...       Electronics   \n28328  Fire Tablets,Tablets,All Tablets,Amazon Tablet...       Electronics   \n28329  Fire Tablets,Tablets,All Tablets,Amazon Tablet...       Electronics   \n28330  Fire Tablets,Tablets,All Tablets,Amazon Tablet...       Electronics   \n28331  Fire Tablets,Tablets,All Tablets,Amazon Tablet...       Electronics   \n\n                                               imageURLs  \\\n0      https://images-na.ssl-images-amazon.com/images...   \n1      https://images-na.ssl-images-amazon.com/images...   \n2      https://images-na.ssl-images-amazon.com/images...   \n3      https://images-na.ssl-images-amazon.com/images...   \n4      https://images-na.ssl-images-amazon.com/images...   \n...                                                  ...   \n28327  https://www.upccodesearch.com/images/barcode/0...   \n28328  https://www.upccodesearch.com/images/barcode/0...   \n28329  https://www.upccodesearch.com/images/barcode/0...   \n28330  https://www.upccodesearch.com/images/barcode/0...   \n28331  https://www.upccodesearch.com/images/barcode/0...   \n\n                                                    keys  ...  \\\n0      amazonbasics/hl002619,amazonbasicsaaaperforman...  ...   \n1      amazonbasics/hl002619,amazonbasicsaaaperforman...  ...   \n2      amazonbasics/hl002619,amazonbasicsaaaperforman...  ...   \n3      amazonbasics/hl002619,amazonbasicsaaaperforman...  ...   \n4      amazonbasics/hl002619,amazonbasicsaaaperforman...  ...   \n...                                                  ...  ...   \n28327  amazon/b018t075dc,firehd8tabletwithalexa8hddis...  ...   \n28328  amazon/b018t075dc,firehd8tabletwithalexa8hddis...  ...   \n28329  amazon/b018t075dc,firehd8tabletwithalexa8hddis...  ...   \n28330  amazon/b018t075dc,firehd8tabletwithalexa8hddis...  ...   \n28331  amazon/b018t075dc,firehd8tabletwithalexa8hddis...  ...   \n\n      reviews.didPurchase reviews.doRecommend reviews.id reviews.numHelpful  \\\n0                     NaN                 NaN        NaN                NaN   \n1                     NaN                 NaN        NaN                NaN   \n2                     NaN                 NaN        NaN                NaN   \n3                     NaN                 NaN        NaN                NaN   \n4                     NaN                 NaN        NaN                NaN   \n...                   ...                 ...        ...                ...   \n28327                 NaN                True        NaN                0.0   \n28328                 NaN                True        NaN                0.0   \n28329                 NaN                True        NaN                0.0   \n28330                 NaN                True        NaN                0.0   \n28331                 NaN                True        NaN                0.0   \n\n      reviews.rating                                 reviews.sourceURLs  \\\n0                  3  https://www.amazon.com/product-reviews/B00QWO9...   \n1                  4  https://www.amazon.com/product-reviews/B00QWO9...   \n2                  5  https://www.amazon.com/product-reviews/B00QWO9...   \n3                  5  https://www.amazon.com/product-reviews/B00QWO9...   \n4                  5  https://www.amazon.com/product-reviews/B00QWO9...   \n...              ...                                                ...   \n28327              5  http://reviews.bestbuy.com/3545/5620410/review...   \n28328              4  http://reviews.bestbuy.com/3545/5620410/review...   \n28329              5  http://reviews.bestbuy.com/3545/5620410/review...   \n28330              5  http://reviews.bestbuy.com/3545/5620410/review...   \n28331              4  http://reviews.bestbuy.com/3545/5620410/review...   \n\n                                            reviews.text  \\\n0      I order 3 of them and one of the item is bad q...   \n1      Bulk is always the less expensive way to go fo...   \n2      Well they are not Duracell but for the price i...   \n3      Seem to work as well as name brand batteries a...   \n4      These batteries are very long lasting the pric...   \n...                                                  ...   \n28327  I got 2 of these for my 8 yr old twins. My 11 ...   \n28328  I bought this for my niece for a Christmas gif...   \n28329  Very nice for light internet browsing, keeping...   \n28330  This Tablet does absolutely everything I want!...   \n28331  At ninety dollars, the expectionations are low...   \n\n                                           reviews.title  reviews.username  \\\n0      ... 3 of them and one of the item is bad quali...        Byger yang   \n1      ... always the less expensive way to go for pr...              ByMG   \n2      ... are not Duracell but for the price i am ha...  BySharon Lambert   \n3      ... as well as name brand batteries at a much ...     Bymark sexson   \n4      ... batteries are very long lasting the price ...           Bylinda   \n...                                                  ...               ...   \n28327                                          Xmas gift    Mom2twinsplus1   \n28328                          yes it is a great tablet.         fireman21   \n28329                       You get a lot for the price!    suzannalicious   \n28330       You get the entire World for less than $100!            SandyJ   \n28331                       You get what your paying for              Hung   \n\n                                              sourceURLs  \n0      https://www.barcodable.com/upc/841710106442,ht...  \n1      https://www.barcodable.com/upc/841710106442,ht...  \n2      https://www.barcodable.com/upc/841710106442,ht...  \n3      https://www.barcodable.com/upc/841710106442,ht...  \n4      https://www.barcodable.com/upc/841710106442,ht...  \n...                                                  ...  \n28327  http://reviews.bestbuy.com/3545/5620410/review...  \n28328  http://reviews.bestbuy.com/3545/5620410/review...  \n28329  http://reviews.bestbuy.com/3545/5620410/review...  \n28330  http://reviews.bestbuy.com/3545/5620410/review...  \n28331  http://reviews.bestbuy.com/3545/5620410/review...  \n\n[28332 rows x 24 columns]",
      "text/html": "<div>\n<style scoped>\n    .dataframe tbody tr th:only-of-type {\n        vertical-align: middle;\n    }\n\n    .dataframe tbody tr th {\n        vertical-align: top;\n    }\n\n    .dataframe thead th {\n        text-align: right;\n    }\n</style>\n<table border=\"1\" class=\"dataframe\">\n  <thead>\n    <tr style=\"text-align: right;\">\n      <th></th>\n      <th>id</th>\n      <th>dateAdded</th>\n      <th>dateUpdated</th>\n      <th>name</th>\n      <th>asins</th>\n      <th>brand</th>\n      <th>categories</th>\n      <th>primaryCategories</th>\n      <th>imageURLs</th>\n      <th>keys</th>\n      <th>...</th>\n      <th>reviews.didPurchase</th>\n      <th>reviews.doRecommend</th>\n      <th>reviews.id</th>\n      <th>reviews.numHelpful</th>\n      <th>reviews.rating</th>\n      <th>reviews.sourceURLs</th>\n      <th>reviews.text</th>\n      <th>reviews.title</th>\n      <th>reviews.username</th>\n      <th>sourceURLs</th>\n    </tr>\n  </thead>\n  <tbody>\n    <tr>\n      <th>0</th>\n      <td>AVpgNzjwLJeJML43Kpxn</td>\n      <td>2015-10-30T08:59:32Z</td>\n      <td>2019-04-25T09:08:16Z</td>\n      <td>AmazonBasics AAA Performance Alkaline Batterie...</td>\n      <td>B00QWO9P0O,B00LH3DMUO</td>\n      <td>Amazonbasics</td>\n      <td>AA,AAA,Health,Electronics,Health &amp; Household,C...</td>\n      <td>Health &amp; Beauty</td>\n      <td>https://images-na.ssl-images-amazon.com/images...</td>\n      <td>amazonbasics/hl002619,amazonbasicsaaaperforman...</td>\n      <td>...</td>\n      <td>NaN</td>\n      <td>NaN</td>\n      <td>NaN</td>\n      <td>NaN</td>\n      <td>3</td>\n      <td>https://www.amazon.com/product-reviews/B00QWO9...</td>\n      <td>I order 3 of them and one of the item is bad q...</td>\n      <td>... 3 of them and one of the item is bad quali...</td>\n      <td>Byger yang</td>\n      <td>https://www.barcodable.com/upc/841710106442,ht...</td>\n    </tr>\n    <tr>\n      <th>1</th>\n      <td>AVpgNzjwLJeJML43Kpxn</td>\n      <td>2015-10-30T08:59:32Z</td>\n      <td>2019-04-25T09:08:16Z</td>\n      <td>AmazonBasics AAA Performance Alkaline Batterie...</td>\n      <td>B00QWO9P0O,B00LH3DMUO</td>\n      <td>Amazonbasics</td>\n      <td>AA,AAA,Health,Electronics,Health &amp; Household,C...</td>\n      <td>Health &amp; Beauty</td>\n      <td>https://images-na.ssl-images-amazon.com/images...</td>\n      <td>amazonbasics/hl002619,amazonbasicsaaaperforman...</td>\n      <td>...</td>\n      <td>NaN</td>\n      <td>NaN</td>\n      <td>NaN</td>\n      <td>NaN</td>\n      <td>4</td>\n      <td>https://www.amazon.com/product-reviews/B00QWO9...</td>\n      <td>Bulk is always the less expensive way to go fo...</td>\n      <td>... always the less expensive way to go for pr...</td>\n      <td>ByMG</td>\n      <td>https://www.barcodable.com/upc/841710106442,ht...</td>\n    </tr>\n    <tr>\n      <th>2</th>\n      <td>AVpgNzjwLJeJML43Kpxn</td>\n      <td>2015-10-30T08:59:32Z</td>\n      <td>2019-04-25T09:08:16Z</td>\n      <td>AmazonBasics AAA Performance Alkaline Batterie...</td>\n      <td>B00QWO9P0O,B00LH3DMUO</td>\n      <td>Amazonbasics</td>\n      <td>AA,AAA,Health,Electronics,Health &amp; Household,C...</td>\n      <td>Health &amp; Beauty</td>\n      <td>https://images-na.ssl-images-amazon.com/images...</td>\n      <td>amazonbasics/hl002619,amazonbasicsaaaperforman...</td>\n      <td>...</td>\n      <td>NaN</td>\n      <td>NaN</td>\n      <td>NaN</td>\n      <td>NaN</td>\n      <td>5</td>\n      <td>https://www.amazon.com/product-reviews/B00QWO9...</td>\n      <td>Well they are not Duracell but for the price i...</td>\n      <td>... are not Duracell but for the price i am ha...</td>\n      <td>BySharon Lambert</td>\n      <td>https://www.barcodable.com/upc/841710106442,ht...</td>\n    </tr>\n    <tr>\n      <th>3</th>\n      <td>AVpgNzjwLJeJML43Kpxn</td>\n      <td>2015-10-30T08:59:32Z</td>\n      <td>2019-04-25T09:08:16Z</td>\n      <td>AmazonBasics AAA Performance Alkaline Batterie...</td>\n      <td>B00QWO9P0O,B00LH3DMUO</td>\n      <td>Amazonbasics</td>\n      <td>AA,AAA,Health,Electronics,Health &amp; Household,C...</td>\n      <td>Health &amp; Beauty</td>\n      <td>https://images-na.ssl-images-amazon.com/images...</td>\n      <td>amazonbasics/hl002619,amazonbasicsaaaperforman...</td>\n      <td>...</td>\n      <td>NaN</td>\n      <td>NaN</td>\n      <td>NaN</td>\n      <td>NaN</td>\n      <td>5</td>\n      <td>https://www.amazon.com/product-reviews/B00QWO9...</td>\n      <td>Seem to work as well as name brand batteries a...</td>\n      <td>... as well as name brand batteries at a much ...</td>\n      <td>Bymark sexson</td>\n      <td>https://www.barcodable.com/upc/841710106442,ht...</td>\n    </tr>\n    <tr>\n      <th>4</th>\n      <td>AVpgNzjwLJeJML43Kpxn</td>\n      <td>2015-10-30T08:59:32Z</td>\n      <td>2019-04-25T09:08:16Z</td>\n      <td>AmazonBasics AAA Performance Alkaline Batterie...</td>\n      <td>B00QWO9P0O,B00LH3DMUO</td>\n      <td>Amazonbasics</td>\n      <td>AA,AAA,Health,Electronics,Health &amp; Household,C...</td>\n      <td>Health &amp; Beauty</td>\n      <td>https://images-na.ssl-images-amazon.com/images...</td>\n      <td>amazonbasics/hl002619,amazonbasicsaaaperforman...</td>\n      <td>...</td>\n      <td>NaN</td>\n      <td>NaN</td>\n      <td>NaN</td>\n      <td>NaN</td>\n      <td>5</td>\n      <td>https://www.amazon.com/product-reviews/B00QWO9...</td>\n      <td>These batteries are very long lasting the pric...</td>\n      <td>... batteries are very long lasting the price ...</td>\n      <td>Bylinda</td>\n      <td>https://www.barcodable.com/upc/841710106442,ht...</td>\n    </tr>\n    <tr>\n      <th>...</th>\n      <td>...</td>\n      <td>...</td>\n      <td>...</td>\n      <td>...</td>\n      <td>...</td>\n      <td>...</td>\n      <td>...</td>\n      <td>...</td>\n      <td>...</td>\n      <td>...</td>\n      <td>...</td>\n      <td>...</td>\n      <td>...</td>\n      <td>...</td>\n      <td>...</td>\n      <td>...</td>\n      <td>...</td>\n      <td>...</td>\n      <td>...</td>\n      <td>...</td>\n      <td>...</td>\n    </tr>\n    <tr>\n      <th>28327</th>\n      <td>AVqkIhxunnc1JgDc3kg_</td>\n      <td>2017-03-06T14:59:43Z</td>\n      <td>2019-02-23T02:49:38Z</td>\n      <td>Fire HD 8 Tablet with Alexa, 8 HD Display, 16 ...</td>\n      <td>B018T075DC</td>\n      <td>Amazon</td>\n      <td>Fire Tablets,Tablets,All Tablets,Amazon Tablet...</td>\n      <td>Electronics</td>\n      <td>https://www.upccodesearch.com/images/barcode/0...</td>\n      <td>amazon/b018t075dc,firehd8tabletwithalexa8hddis...</td>\n      <td>...</td>\n      <td>NaN</td>\n      <td>True</td>\n      <td>NaN</td>\n      <td>0.0</td>\n      <td>5</td>\n      <td>http://reviews.bestbuy.com/3545/5620410/review...</td>\n      <td>I got 2 of these for my 8 yr old twins. My 11 ...</td>\n      <td>Xmas gift</td>\n      <td>Mom2twinsplus1</td>\n      <td>http://reviews.bestbuy.com/3545/5620410/review...</td>\n    </tr>\n    <tr>\n      <th>28328</th>\n      <td>AVqkIhxunnc1JgDc3kg_</td>\n      <td>2017-03-06T14:59:43Z</td>\n      <td>2019-02-23T02:49:38Z</td>\n      <td>Fire HD 8 Tablet with Alexa, 8 HD Display, 16 ...</td>\n      <td>B018T075DC</td>\n      <td>Amazon</td>\n      <td>Fire Tablets,Tablets,All Tablets,Amazon Tablet...</td>\n      <td>Electronics</td>\n      <td>https://www.upccodesearch.com/images/barcode/0...</td>\n      <td>amazon/b018t075dc,firehd8tabletwithalexa8hddis...</td>\n      <td>...</td>\n      <td>NaN</td>\n      <td>True</td>\n      <td>NaN</td>\n      <td>0.0</td>\n      <td>4</td>\n      <td>http://reviews.bestbuy.com/3545/5620410/review...</td>\n      <td>I bought this for my niece for a Christmas gif...</td>\n      <td>yes it is a great tablet.</td>\n      <td>fireman21</td>\n      <td>http://reviews.bestbuy.com/3545/5620410/review...</td>\n    </tr>\n    <tr>\n      <th>28329</th>\n      <td>AVqkIhxunnc1JgDc3kg_</td>\n      <td>2017-03-06T14:59:43Z</td>\n      <td>2019-02-23T02:49:38Z</td>\n      <td>Fire HD 8 Tablet with Alexa, 8 HD Display, 16 ...</td>\n      <td>B018T075DC</td>\n      <td>Amazon</td>\n      <td>Fire Tablets,Tablets,All Tablets,Amazon Tablet...</td>\n      <td>Electronics</td>\n      <td>https://www.upccodesearch.com/images/barcode/0...</td>\n      <td>amazon/b018t075dc,firehd8tabletwithalexa8hddis...</td>\n      <td>...</td>\n      <td>NaN</td>\n      <td>True</td>\n      <td>NaN</td>\n      <td>0.0</td>\n      <td>5</td>\n      <td>http://reviews.bestbuy.com/3545/5620410/review...</td>\n      <td>Very nice for light internet browsing, keeping...</td>\n      <td>You get a lot for the price!</td>\n      <td>suzannalicious</td>\n      <td>http://reviews.bestbuy.com/3545/5620410/review...</td>\n    </tr>\n    <tr>\n      <th>28330</th>\n      <td>AVqkIhxunnc1JgDc3kg_</td>\n      <td>2017-03-06T14:59:43Z</td>\n      <td>2019-02-23T02:49:38Z</td>\n      <td>Fire HD 8 Tablet with Alexa, 8 HD Display, 16 ...</td>\n      <td>B018T075DC</td>\n      <td>Amazon</td>\n      <td>Fire Tablets,Tablets,All Tablets,Amazon Tablet...</td>\n      <td>Electronics</td>\n      <td>https://www.upccodesearch.com/images/barcode/0...</td>\n      <td>amazon/b018t075dc,firehd8tabletwithalexa8hddis...</td>\n      <td>...</td>\n      <td>NaN</td>\n      <td>True</td>\n      <td>NaN</td>\n      <td>0.0</td>\n      <td>5</td>\n      <td>http://reviews.bestbuy.com/3545/5620410/review...</td>\n      <td>This Tablet does absolutely everything I want!...</td>\n      <td>You get the entire World for less than $100!</td>\n      <td>SandyJ</td>\n      <td>http://reviews.bestbuy.com/3545/5620410/review...</td>\n    </tr>\n    <tr>\n      <th>28331</th>\n      <td>AVqkIhxunnc1JgDc3kg_</td>\n      <td>2017-03-06T14:59:43Z</td>\n      <td>2019-02-23T02:49:38Z</td>\n      <td>Fire HD 8 Tablet with Alexa, 8 HD Display, 16 ...</td>\n      <td>B018T075DC</td>\n      <td>Amazon</td>\n      <td>Fire Tablets,Tablets,All Tablets,Amazon Tablet...</td>\n      <td>Electronics</td>\n      <td>https://www.upccodesearch.com/images/barcode/0...</td>\n      <td>amazon/b018t075dc,firehd8tabletwithalexa8hddis...</td>\n      <td>...</td>\n      <td>NaN</td>\n      <td>True</td>\n      <td>NaN</td>\n      <td>0.0</td>\n      <td>4</td>\n      <td>http://reviews.bestbuy.com/3545/5620410/review...</td>\n      <td>At ninety dollars, the expectionations are low...</td>\n      <td>You get what your paying for</td>\n      <td>Hung</td>\n      <td>http://reviews.bestbuy.com/3545/5620410/review...</td>\n    </tr>\n  </tbody>\n</table>\n<p>28332 rows × 24 columns</p>\n</div>"
     },
     "execution_count": 132,
     "metadata": {},
     "output_type": "execute_result"
    }
   ],
   "source": [
    "csv_path = \"data/Datafiniti_Amazon_Consumer_Reviews_of_Amazon_Products_May19.csv\"\n",
    "df = pd.read_csv(csv_path)\n",
    "df"
   ],
   "metadata": {
    "collapsed": false
   }
  },
  {
   "cell_type": "code",
   "execution_count": 133,
   "outputs": [
    {
     "name": "stdout",
     "output_type": "stream",
     "text": [
      "<class 'pandas.core.frame.DataFrame'>\n",
      "RangeIndex: 28332 entries, 0 to 28331\n",
      "Data columns (total 24 columns):\n",
      " #   Column               Non-Null Count  Dtype  \n",
      "---  ------               --------------  -----  \n",
      " 0   id                   28332 non-null  object \n",
      " 1   dateAdded            28332 non-null  object \n",
      " 2   dateUpdated          28332 non-null  object \n",
      " 3   name                 28332 non-null  object \n",
      " 4   asins                28332 non-null  object \n",
      " 5   brand                28332 non-null  object \n",
      " 6   categories           28332 non-null  object \n",
      " 7   primaryCategories    28332 non-null  object \n",
      " 8   imageURLs            28332 non-null  object \n",
      " 9   keys                 28332 non-null  object \n",
      " 10  manufacturer         28332 non-null  object \n",
      " 11  manufacturerNumber   28332 non-null  object \n",
      " 12  reviews.date         28332 non-null  object \n",
      " 13  reviews.dateSeen     28332 non-null  object \n",
      " 14  reviews.didPurchase  9 non-null      object \n",
      " 15  reviews.doRecommend  16086 non-null  object \n",
      " 16  reviews.id           41 non-null     float64\n",
      " 17  reviews.numHelpful   16115 non-null  float64\n",
      " 18  reviews.rating       28332 non-null  int64  \n",
      " 19  reviews.sourceURLs   28332 non-null  object \n",
      " 20  reviews.text         28332 non-null  object \n",
      " 21  reviews.title        28332 non-null  object \n",
      " 22  reviews.username     28332 non-null  object \n",
      " 23  sourceURLs           28332 non-null  object \n",
      "dtypes: float64(2), int64(1), object(21)\n",
      "memory usage: 5.2+ MB\n"
     ]
    }
   ],
   "source": [
    "df.info()"
   ],
   "metadata": {
    "collapsed": false
   }
  },
  {
   "cell_type": "code",
   "execution_count": 134,
   "outputs": [
    {
     "name": "stdout",
     "output_type": "stream",
     "text": [
      "brand\n",
      "Amazon          16153\n",
      "Amazonbasics    12169\n",
      "AmazonBasics       10\n",
      "Name: brand, dtype: int64\n",
      "\n",
      "reviews.didPurchase\n",
      "True     8\n",
      "False    1\n",
      "Name: reviews.didPurchase, dtype: int64\n",
      "\n",
      "reviews.doRecommend\n",
      "True     15353\n",
      "False      733\n",
      "Name: reviews.doRecommend, dtype: int64\n",
      "\n",
      "reviews.id\n",
      "42\n"
     ]
    }
   ],
   "source": [
    "print('brand')\n",
    "print(df['brand'].value_counts())\n",
    "print()\n",
    "print('reviews.didPurchase')\n",
    "print(df['reviews.didPurchase'].value_counts())\n",
    "print()\n",
    "print('reviews.doRecommend')\n",
    "print(df['reviews.doRecommend'].value_counts())\n",
    "print()\n",
    "print('reviews.id')\n",
    "print(df['reviews.id'].unique().size)"
   ],
   "metadata": {
    "collapsed": false
   }
  },
  {
   "cell_type": "code",
   "execution_count": 135,
   "outputs": [
    {
     "data": {
      "text/plain": "                         id             dateAdded           dateUpdated  \\\n0      AVpgNzjwLJeJML43Kpxn  2015-10-30T08:59:32Z  2019-04-25T09:08:16Z   \n1      AVpgNzjwLJeJML43Kpxn  2015-10-30T08:59:32Z  2019-04-25T09:08:16Z   \n2      AVpgNzjwLJeJML43Kpxn  2015-10-30T08:59:32Z  2019-04-25T09:08:16Z   \n3      AVpgNzjwLJeJML43Kpxn  2015-10-30T08:59:32Z  2019-04-25T09:08:16Z   \n4      AVpgNzjwLJeJML43Kpxn  2015-10-30T08:59:32Z  2019-04-25T09:08:16Z   \n...                     ...                   ...                   ...   \n28327  AVqkIhxunnc1JgDc3kg_  2017-03-06T14:59:43Z  2019-02-23T02:49:38Z   \n28328  AVqkIhxunnc1JgDc3kg_  2017-03-06T14:59:43Z  2019-02-23T02:49:38Z   \n28329  AVqkIhxunnc1JgDc3kg_  2017-03-06T14:59:43Z  2019-02-23T02:49:38Z   \n28330  AVqkIhxunnc1JgDc3kg_  2017-03-06T14:59:43Z  2019-02-23T02:49:38Z   \n28331  AVqkIhxunnc1JgDc3kg_  2017-03-06T14:59:43Z  2019-02-23T02:49:38Z   \n\n                                                    name  \\\n0      AmazonBasics AAA Performance Alkaline Batterie...   \n1      AmazonBasics AAA Performance Alkaline Batterie...   \n2      AmazonBasics AAA Performance Alkaline Batterie...   \n3      AmazonBasics AAA Performance Alkaline Batterie...   \n4      AmazonBasics AAA Performance Alkaline Batterie...   \n...                                                  ...   \n28327  Fire HD 8 Tablet with Alexa, 8 HD Display, 16 ...   \n28328  Fire HD 8 Tablet with Alexa, 8 HD Display, 16 ...   \n28329  Fire HD 8 Tablet with Alexa, 8 HD Display, 16 ...   \n28330  Fire HD 8 Tablet with Alexa, 8 HD Display, 16 ...   \n28331  Fire HD 8 Tablet with Alexa, 8 HD Display, 16 ...   \n\n                       asins         brand  \\\n0      B00QWO9P0O,B00LH3DMUO  Amazonbasics   \n1      B00QWO9P0O,B00LH3DMUO  Amazonbasics   \n2      B00QWO9P0O,B00LH3DMUO  Amazonbasics   \n3      B00QWO9P0O,B00LH3DMUO  Amazonbasics   \n4      B00QWO9P0O,B00LH3DMUO  Amazonbasics   \n...                      ...           ...   \n28327             B018T075DC        Amazon   \n28328             B018T075DC        Amazon   \n28329             B018T075DC        Amazon   \n28330             B018T075DC        Amazon   \n28331             B018T075DC        Amazon   \n\n                                              categories primaryCategories  \\\n0      AA,AAA,Health,Electronics,Health & Household,C...   Health & Beauty   \n1      AA,AAA,Health,Electronics,Health & Household,C...   Health & Beauty   \n2      AA,AAA,Health,Electronics,Health & Household,C...   Health & Beauty   \n3      AA,AAA,Health,Electronics,Health & Household,C...   Health & Beauty   \n4      AA,AAA,Health,Electronics,Health & Household,C...   Health & Beauty   \n...                                                  ...               ...   \n28327  Fire Tablets,Tablets,All Tablets,Amazon Tablet...       Electronics   \n28328  Fire Tablets,Tablets,All Tablets,Amazon Tablet...       Electronics   \n28329  Fire Tablets,Tablets,All Tablets,Amazon Tablet...       Electronics   \n28330  Fire Tablets,Tablets,All Tablets,Amazon Tablet...       Electronics   \n28331  Fire Tablets,Tablets,All Tablets,Amazon Tablet...       Electronics   \n\n       manufacturer manufacturerNumber              reviews.date  \\\n0      AmazonBasics          HL-002619  2017-03-02T00:00:00.000Z   \n1      AmazonBasics          HL-002619  2016-08-31T00:00:00.000Z   \n2      AmazonBasics          HL-002619  2016-12-06T00:00:00.000Z   \n3      AmazonBasics          HL-002619  2016-03-28T00:00:00.000Z   \n4      AmazonBasics          HL-002619  2017-04-22T00:00:00.000Z   \n...             ...                ...                       ...   \n28327        Amazon          53-004485  2016-12-07T00:00:00.000Z   \n28328        Amazon          53-004485  2017-01-20T00:00:00.000Z   \n28329        Amazon          53-004485  2017-01-30T00:00:00.000Z   \n28330        Amazon          53-004485  2017-02-17T00:00:00.000Z   \n28331        Amazon          53-004485  2016-12-23T00:00:00.000Z   \n\n      reviews.doRecommend  reviews.numHelpful  reviews.rating  \\\n0                     NaN                 NaN               3   \n1                     NaN                 NaN               4   \n2                     NaN                 NaN               5   \n3                     NaN                 NaN               5   \n4                     NaN                 NaN               5   \n...                   ...                 ...             ...   \n28327                True                 0.0               5   \n28328                True                 0.0               4   \n28329                True                 0.0               5   \n28330                True                 0.0               5   \n28331                True                 0.0               4   \n\n                                      reviews.sourceURLs  \\\n0      https://www.amazon.com/product-reviews/B00QWO9...   \n1      https://www.amazon.com/product-reviews/B00QWO9...   \n2      https://www.amazon.com/product-reviews/B00QWO9...   \n3      https://www.amazon.com/product-reviews/B00QWO9...   \n4      https://www.amazon.com/product-reviews/B00QWO9...   \n...                                                  ...   \n28327  http://reviews.bestbuy.com/3545/5620410/review...   \n28328  http://reviews.bestbuy.com/3545/5620410/review...   \n28329  http://reviews.bestbuy.com/3545/5620410/review...   \n28330  http://reviews.bestbuy.com/3545/5620410/review...   \n28331  http://reviews.bestbuy.com/3545/5620410/review...   \n\n                                            reviews.text  \\\n0      I order 3 of them and one of the item is bad q...   \n1      Bulk is always the less expensive way to go fo...   \n2      Well they are not Duracell but for the price i...   \n3      Seem to work as well as name brand batteries a...   \n4      These batteries are very long lasting the pric...   \n...                                                  ...   \n28327  I got 2 of these for my 8 yr old twins. My 11 ...   \n28328  I bought this for my niece for a Christmas gif...   \n28329  Very nice for light internet browsing, keeping...   \n28330  This Tablet does absolutely everything I want!...   \n28331  At ninety dollars, the expectionations are low...   \n\n                                           reviews.title  reviews.username  \\\n0      ... 3 of them and one of the item is bad quali...        Byger yang   \n1      ... always the less expensive way to go for pr...              ByMG   \n2      ... are not Duracell but for the price i am ha...  BySharon Lambert   \n3      ... as well as name brand batteries at a much ...     Bymark sexson   \n4      ... batteries are very long lasting the price ...           Bylinda   \n...                                                  ...               ...   \n28327                                          Xmas gift    Mom2twinsplus1   \n28328                          yes it is a great tablet.         fireman21   \n28329                       You get a lot for the price!    suzannalicious   \n28330       You get the entire World for less than $100!            SandyJ   \n28331                       You get what your paying for              Hung   \n\n                                              sourceURLs  \n0      https://www.barcodable.com/upc/841710106442,ht...  \n1      https://www.barcodable.com/upc/841710106442,ht...  \n2      https://www.barcodable.com/upc/841710106442,ht...  \n3      https://www.barcodable.com/upc/841710106442,ht...  \n4      https://www.barcodable.com/upc/841710106442,ht...  \n...                                                  ...  \n28327  http://reviews.bestbuy.com/3545/5620410/review...  \n28328  http://reviews.bestbuy.com/3545/5620410/review...  \n28329  http://reviews.bestbuy.com/3545/5620410/review...  \n28330  http://reviews.bestbuy.com/3545/5620410/review...  \n28331  http://reviews.bestbuy.com/3545/5620410/review...  \n\n[28332 rows x 19 columns]",
      "text/html": "<div>\n<style scoped>\n    .dataframe tbody tr th:only-of-type {\n        vertical-align: middle;\n    }\n\n    .dataframe tbody tr th {\n        vertical-align: top;\n    }\n\n    .dataframe thead th {\n        text-align: right;\n    }\n</style>\n<table border=\"1\" class=\"dataframe\">\n  <thead>\n    <tr style=\"text-align: right;\">\n      <th></th>\n      <th>id</th>\n      <th>dateAdded</th>\n      <th>dateUpdated</th>\n      <th>name</th>\n      <th>asins</th>\n      <th>brand</th>\n      <th>categories</th>\n      <th>primaryCategories</th>\n      <th>manufacturer</th>\n      <th>manufacturerNumber</th>\n      <th>reviews.date</th>\n      <th>reviews.doRecommend</th>\n      <th>reviews.numHelpful</th>\n      <th>reviews.rating</th>\n      <th>reviews.sourceURLs</th>\n      <th>reviews.text</th>\n      <th>reviews.title</th>\n      <th>reviews.username</th>\n      <th>sourceURLs</th>\n    </tr>\n  </thead>\n  <tbody>\n    <tr>\n      <th>0</th>\n      <td>AVpgNzjwLJeJML43Kpxn</td>\n      <td>2015-10-30T08:59:32Z</td>\n      <td>2019-04-25T09:08:16Z</td>\n      <td>AmazonBasics AAA Performance Alkaline Batterie...</td>\n      <td>B00QWO9P0O,B00LH3DMUO</td>\n      <td>Amazonbasics</td>\n      <td>AA,AAA,Health,Electronics,Health &amp; Household,C...</td>\n      <td>Health &amp; Beauty</td>\n      <td>AmazonBasics</td>\n      <td>HL-002619</td>\n      <td>2017-03-02T00:00:00.000Z</td>\n      <td>NaN</td>\n      <td>NaN</td>\n      <td>3</td>\n      <td>https://www.amazon.com/product-reviews/B00QWO9...</td>\n      <td>I order 3 of them and one of the item is bad q...</td>\n      <td>... 3 of them and one of the item is bad quali...</td>\n      <td>Byger yang</td>\n      <td>https://www.barcodable.com/upc/841710106442,ht...</td>\n    </tr>\n    <tr>\n      <th>1</th>\n      <td>AVpgNzjwLJeJML43Kpxn</td>\n      <td>2015-10-30T08:59:32Z</td>\n      <td>2019-04-25T09:08:16Z</td>\n      <td>AmazonBasics AAA Performance Alkaline Batterie...</td>\n      <td>B00QWO9P0O,B00LH3DMUO</td>\n      <td>Amazonbasics</td>\n      <td>AA,AAA,Health,Electronics,Health &amp; Household,C...</td>\n      <td>Health &amp; Beauty</td>\n      <td>AmazonBasics</td>\n      <td>HL-002619</td>\n      <td>2016-08-31T00:00:00.000Z</td>\n      <td>NaN</td>\n      <td>NaN</td>\n      <td>4</td>\n      <td>https://www.amazon.com/product-reviews/B00QWO9...</td>\n      <td>Bulk is always the less expensive way to go fo...</td>\n      <td>... always the less expensive way to go for pr...</td>\n      <td>ByMG</td>\n      <td>https://www.barcodable.com/upc/841710106442,ht...</td>\n    </tr>\n    <tr>\n      <th>2</th>\n      <td>AVpgNzjwLJeJML43Kpxn</td>\n      <td>2015-10-30T08:59:32Z</td>\n      <td>2019-04-25T09:08:16Z</td>\n      <td>AmazonBasics AAA Performance Alkaline Batterie...</td>\n      <td>B00QWO9P0O,B00LH3DMUO</td>\n      <td>Amazonbasics</td>\n      <td>AA,AAA,Health,Electronics,Health &amp; Household,C...</td>\n      <td>Health &amp; Beauty</td>\n      <td>AmazonBasics</td>\n      <td>HL-002619</td>\n      <td>2016-12-06T00:00:00.000Z</td>\n      <td>NaN</td>\n      <td>NaN</td>\n      <td>5</td>\n      <td>https://www.amazon.com/product-reviews/B00QWO9...</td>\n      <td>Well they are not Duracell but for the price i...</td>\n      <td>... are not Duracell but for the price i am ha...</td>\n      <td>BySharon Lambert</td>\n      <td>https://www.barcodable.com/upc/841710106442,ht...</td>\n    </tr>\n    <tr>\n      <th>3</th>\n      <td>AVpgNzjwLJeJML43Kpxn</td>\n      <td>2015-10-30T08:59:32Z</td>\n      <td>2019-04-25T09:08:16Z</td>\n      <td>AmazonBasics AAA Performance Alkaline Batterie...</td>\n      <td>B00QWO9P0O,B00LH3DMUO</td>\n      <td>Amazonbasics</td>\n      <td>AA,AAA,Health,Electronics,Health &amp; Household,C...</td>\n      <td>Health &amp; Beauty</td>\n      <td>AmazonBasics</td>\n      <td>HL-002619</td>\n      <td>2016-03-28T00:00:00.000Z</td>\n      <td>NaN</td>\n      <td>NaN</td>\n      <td>5</td>\n      <td>https://www.amazon.com/product-reviews/B00QWO9...</td>\n      <td>Seem to work as well as name brand batteries a...</td>\n      <td>... as well as name brand batteries at a much ...</td>\n      <td>Bymark sexson</td>\n      <td>https://www.barcodable.com/upc/841710106442,ht...</td>\n    </tr>\n    <tr>\n      <th>4</th>\n      <td>AVpgNzjwLJeJML43Kpxn</td>\n      <td>2015-10-30T08:59:32Z</td>\n      <td>2019-04-25T09:08:16Z</td>\n      <td>AmazonBasics AAA Performance Alkaline Batterie...</td>\n      <td>B00QWO9P0O,B00LH3DMUO</td>\n      <td>Amazonbasics</td>\n      <td>AA,AAA,Health,Electronics,Health &amp; Household,C...</td>\n      <td>Health &amp; Beauty</td>\n      <td>AmazonBasics</td>\n      <td>HL-002619</td>\n      <td>2017-04-22T00:00:00.000Z</td>\n      <td>NaN</td>\n      <td>NaN</td>\n      <td>5</td>\n      <td>https://www.amazon.com/product-reviews/B00QWO9...</td>\n      <td>These batteries are very long lasting the pric...</td>\n      <td>... batteries are very long lasting the price ...</td>\n      <td>Bylinda</td>\n      <td>https://www.barcodable.com/upc/841710106442,ht...</td>\n    </tr>\n    <tr>\n      <th>...</th>\n      <td>...</td>\n      <td>...</td>\n      <td>...</td>\n      <td>...</td>\n      <td>...</td>\n      <td>...</td>\n      <td>...</td>\n      <td>...</td>\n      <td>...</td>\n      <td>...</td>\n      <td>...</td>\n      <td>...</td>\n      <td>...</td>\n      <td>...</td>\n      <td>...</td>\n      <td>...</td>\n      <td>...</td>\n      <td>...</td>\n      <td>...</td>\n    </tr>\n    <tr>\n      <th>28327</th>\n      <td>AVqkIhxunnc1JgDc3kg_</td>\n      <td>2017-03-06T14:59:43Z</td>\n      <td>2019-02-23T02:49:38Z</td>\n      <td>Fire HD 8 Tablet with Alexa, 8 HD Display, 16 ...</td>\n      <td>B018T075DC</td>\n      <td>Amazon</td>\n      <td>Fire Tablets,Tablets,All Tablets,Amazon Tablet...</td>\n      <td>Electronics</td>\n      <td>Amazon</td>\n      <td>53-004485</td>\n      <td>2016-12-07T00:00:00.000Z</td>\n      <td>True</td>\n      <td>0.0</td>\n      <td>5</td>\n      <td>http://reviews.bestbuy.com/3545/5620410/review...</td>\n      <td>I got 2 of these for my 8 yr old twins. My 11 ...</td>\n      <td>Xmas gift</td>\n      <td>Mom2twinsplus1</td>\n      <td>http://reviews.bestbuy.com/3545/5620410/review...</td>\n    </tr>\n    <tr>\n      <th>28328</th>\n      <td>AVqkIhxunnc1JgDc3kg_</td>\n      <td>2017-03-06T14:59:43Z</td>\n      <td>2019-02-23T02:49:38Z</td>\n      <td>Fire HD 8 Tablet with Alexa, 8 HD Display, 16 ...</td>\n      <td>B018T075DC</td>\n      <td>Amazon</td>\n      <td>Fire Tablets,Tablets,All Tablets,Amazon Tablet...</td>\n      <td>Electronics</td>\n      <td>Amazon</td>\n      <td>53-004485</td>\n      <td>2017-01-20T00:00:00.000Z</td>\n      <td>True</td>\n      <td>0.0</td>\n      <td>4</td>\n      <td>http://reviews.bestbuy.com/3545/5620410/review...</td>\n      <td>I bought this for my niece for a Christmas gif...</td>\n      <td>yes it is a great tablet.</td>\n      <td>fireman21</td>\n      <td>http://reviews.bestbuy.com/3545/5620410/review...</td>\n    </tr>\n    <tr>\n      <th>28329</th>\n      <td>AVqkIhxunnc1JgDc3kg_</td>\n      <td>2017-03-06T14:59:43Z</td>\n      <td>2019-02-23T02:49:38Z</td>\n      <td>Fire HD 8 Tablet with Alexa, 8 HD Display, 16 ...</td>\n      <td>B018T075DC</td>\n      <td>Amazon</td>\n      <td>Fire Tablets,Tablets,All Tablets,Amazon Tablet...</td>\n      <td>Electronics</td>\n      <td>Amazon</td>\n      <td>53-004485</td>\n      <td>2017-01-30T00:00:00.000Z</td>\n      <td>True</td>\n      <td>0.0</td>\n      <td>5</td>\n      <td>http://reviews.bestbuy.com/3545/5620410/review...</td>\n      <td>Very nice for light internet browsing, keeping...</td>\n      <td>You get a lot for the price!</td>\n      <td>suzannalicious</td>\n      <td>http://reviews.bestbuy.com/3545/5620410/review...</td>\n    </tr>\n    <tr>\n      <th>28330</th>\n      <td>AVqkIhxunnc1JgDc3kg_</td>\n      <td>2017-03-06T14:59:43Z</td>\n      <td>2019-02-23T02:49:38Z</td>\n      <td>Fire HD 8 Tablet with Alexa, 8 HD Display, 16 ...</td>\n      <td>B018T075DC</td>\n      <td>Amazon</td>\n      <td>Fire Tablets,Tablets,All Tablets,Amazon Tablet...</td>\n      <td>Electronics</td>\n      <td>Amazon</td>\n      <td>53-004485</td>\n      <td>2017-02-17T00:00:00.000Z</td>\n      <td>True</td>\n      <td>0.0</td>\n      <td>5</td>\n      <td>http://reviews.bestbuy.com/3545/5620410/review...</td>\n      <td>This Tablet does absolutely everything I want!...</td>\n      <td>You get the entire World for less than $100!</td>\n      <td>SandyJ</td>\n      <td>http://reviews.bestbuy.com/3545/5620410/review...</td>\n    </tr>\n    <tr>\n      <th>28331</th>\n      <td>AVqkIhxunnc1JgDc3kg_</td>\n      <td>2017-03-06T14:59:43Z</td>\n      <td>2019-02-23T02:49:38Z</td>\n      <td>Fire HD 8 Tablet with Alexa, 8 HD Display, 16 ...</td>\n      <td>B018T075DC</td>\n      <td>Amazon</td>\n      <td>Fire Tablets,Tablets,All Tablets,Amazon Tablet...</td>\n      <td>Electronics</td>\n      <td>Amazon</td>\n      <td>53-004485</td>\n      <td>2016-12-23T00:00:00.000Z</td>\n      <td>True</td>\n      <td>0.0</td>\n      <td>4</td>\n      <td>http://reviews.bestbuy.com/3545/5620410/review...</td>\n      <td>At ninety dollars, the expectionations are low...</td>\n      <td>You get what your paying for</td>\n      <td>Hung</td>\n      <td>http://reviews.bestbuy.com/3545/5620410/review...</td>\n    </tr>\n  </tbody>\n</table>\n<p>28332 rows × 19 columns</p>\n</div>"
     },
     "execution_count": 135,
     "metadata": {},
     "output_type": "execute_result"
    }
   ],
   "source": [
    "# dropping unuseful cols, because they mainly contain null values\n",
    "# dateSeen only specifies the date when the review was scraped\n",
    "unuseful_cols = ['reviews.didPurchase', 'reviews.id', 'keys', 'reviews.dateSeen', 'imageURLs']\n",
    "df = df.drop(unuseful_cols, axis=1)\n",
    "df"
   ],
   "metadata": {
    "collapsed": false
   }
  },
  {
   "cell_type": "code",
   "execution_count": 136,
   "outputs": [],
   "source": [
    "# set NaN values to 0\n",
    "df['reviews.numHelpful'] = df['reviews.numHelpful'].fillna(0).astype('int16')\n",
    "df['reviews.doRecommend'] = df['reviews.doRecommend'].fillna(0).astype('int16')\n",
    "# set data types\n",
    "df['reviews.rating'] = df['reviews.rating'].astype('int8')\n",
    "df['reviews.date'] = pd.to_datetime(df['reviews.date'])\n",
    "df['dateAdded'] = pd.to_datetime(df['dateAdded'])\n",
    "df['dateUpdated'] = pd.to_datetime(df['dateUpdated'])"
   ],
   "metadata": {
    "collapsed": false
   }
  },
  {
   "cell_type": "code",
   "execution_count": 137,
   "outputs": [
    {
     "name": "stdout",
     "output_type": "stream",
     "text": [
      "<class 'pandas.core.frame.DataFrame'>\n",
      "RangeIndex: 28332 entries, 0 to 28331\n",
      "Data columns (total 19 columns):\n",
      " #   Column               Non-Null Count  Dtype              \n",
      "---  ------               --------------  -----              \n",
      " 0   id                   28332 non-null  object             \n",
      " 1   dateAdded            28332 non-null  datetime64[ns, UTC]\n",
      " 2   dateUpdated          28332 non-null  datetime64[ns, UTC]\n",
      " 3   name                 28332 non-null  object             \n",
      " 4   asins                28332 non-null  object             \n",
      " 5   brand                28332 non-null  object             \n",
      " 6   categories           28332 non-null  object             \n",
      " 7   primaryCategories    28332 non-null  object             \n",
      " 8   manufacturer         28332 non-null  object             \n",
      " 9   manufacturerNumber   28332 non-null  object             \n",
      " 10  reviews.date         28332 non-null  datetime64[ns, UTC]\n",
      " 11  reviews.doRecommend  28332 non-null  int16              \n",
      " 12  reviews.numHelpful   28332 non-null  int16              \n",
      " 13  reviews.rating       28332 non-null  int8               \n",
      " 14  reviews.sourceURLs   28332 non-null  object             \n",
      " 15  reviews.text         28332 non-null  object             \n",
      " 16  reviews.title        28332 non-null  object             \n",
      " 17  reviews.username     28332 non-null  object             \n",
      " 18  sourceURLs           28332 non-null  object             \n",
      "dtypes: datetime64[ns, UTC](3), int16(2), int8(1), object(13)\n",
      "memory usage: 3.6+ MB\n"
     ]
    }
   ],
   "source": [
    "df.info()"
   ],
   "metadata": {
    "collapsed": false
   }
  },
  {
   "cell_type": "code",
   "execution_count": 138,
   "outputs": [
    {
     "data": {
      "text/plain": "count    28332.000000\nmean         4.514048\nstd          0.934957\nmin          1.000000\n25%          4.000000\n50%          5.000000\n75%          5.000000\nmax          5.000000\nName: reviews.rating, dtype: float64"
     },
     "execution_count": 138,
     "metadata": {},
     "output_type": "execute_result"
    }
   ],
   "source": [
    "df['reviews.rating'].describe()"
   ],
   "metadata": {
    "collapsed": false
   }
  },
  {
   "cell_type": "code",
   "execution_count": 139,
   "outputs": [
    {
     "data": {
      "text/plain": "count    28332.000000\nmean         0.541896\nstd          0.498250\nmin          0.000000\n25%          0.000000\n50%          1.000000\n75%          1.000000\nmax          1.000000\nName: reviews.doRecommend, dtype: float64"
     },
     "execution_count": 139,
     "metadata": {},
     "output_type": "execute_result"
    }
   ],
   "source": [
    "df['reviews.doRecommend'].describe()"
   ],
   "metadata": {
    "collapsed": false
   }
  },
  {
   "cell_type": "code",
   "execution_count": 140,
   "outputs": [
    {
     "data": {
      "text/plain": "0"
     },
     "execution_count": 140,
     "metadata": {},
     "output_type": "execute_result"
    }
   ],
   "source": [
    "# check for duplicates\n",
    "df.duplicated().sum()"
   ],
   "metadata": {
    "collapsed": false
   }
  },
  {
   "cell_type": "code",
   "execution_count": 141,
   "outputs": [
    {
     "name": "stderr",
     "output_type": "stream",
     "text": [
      "/var/folders/bk/6h4yysys7p3c8qzjf_f6z3_r0000gn/T/ipykernel_70065/263625019.py:1: FutureWarning: Treating datetime data as categorical rather than numeric in `.describe` is deprecated and will be removed in a future version of pandas. Specify `datetime_is_numeric=True` to silence this warning and adopt the future behavior now.\n",
      "  df['reviews.date'].describe()\n"
     ]
    },
    {
     "data": {
      "text/plain": "count                         28332\nunique                         1307\ntop       2017-01-23 00:00:00+00:00\nfreq                            532\nfirst     2009-02-26 00:00:00+00:00\nlast      2019-03-25 00:00:00+00:00\nName: reviews.date, dtype: object"
     },
     "execution_count": 141,
     "metadata": {},
     "output_type": "execute_result"
    }
   ],
   "source": [
    "df['reviews.date'].describe()"
   ],
   "metadata": {
    "collapsed": false
   }
  },
  {
   "cell_type": "code",
   "execution_count": 141,
   "outputs": [],
   "source": [],
   "metadata": {
    "collapsed": false
   }
  }
 ],
 "metadata": {
  "kernelspec": {
   "display_name": "Python 3",
   "language": "python",
   "name": "python3"
  },
  "language_info": {
   "codemirror_mode": {
    "name": "ipython",
    "version": 2
   },
   "file_extension": ".py",
   "mimetype": "text/x-python",
   "name": "python",
   "nbconvert_exporter": "python",
   "pygments_lexer": "ipython2",
   "version": "2.7.6"
  }
 },
 "nbformat": 4,
 "nbformat_minor": 0
}
