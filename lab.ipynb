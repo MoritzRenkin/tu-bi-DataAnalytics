{
 "cells": [
  {
   "cell_type": "code",
   "execution_count": 1,
   "metadata": {
    "collapsed": true
   },
   "outputs": [],
   "source": [
    "import numpy as np\n",
    "import pandas as pd"
   ]
  },
  {
   "cell_type": "code",
   "execution_count": 2,
   "outputs": [
    {
     "data": {
      "text/plain": "                         id             dateAdded           dateUpdated  \\\n0      AVpgNzjwLJeJML43Kpxn  2015-10-30T08:59:32Z  2019-04-25T09:08:16Z   \n1      AVpgNzjwLJeJML43Kpxn  2015-10-30T08:59:32Z  2019-04-25T09:08:16Z   \n2      AVpgNzjwLJeJML43Kpxn  2015-10-30T08:59:32Z  2019-04-25T09:08:16Z   \n3      AVpgNzjwLJeJML43Kpxn  2015-10-30T08:59:32Z  2019-04-25T09:08:16Z   \n4      AVpgNzjwLJeJML43Kpxn  2015-10-30T08:59:32Z  2019-04-25T09:08:16Z   \n...                     ...                   ...                   ...   \n28327  AVqkIhxunnc1JgDc3kg_  2017-03-06T14:59:43Z  2019-02-23T02:49:38Z   \n28328  AVqkIhxunnc1JgDc3kg_  2017-03-06T14:59:43Z  2019-02-23T02:49:38Z   \n28329  AVqkIhxunnc1JgDc3kg_  2017-03-06T14:59:43Z  2019-02-23T02:49:38Z   \n28330  AVqkIhxunnc1JgDc3kg_  2017-03-06T14:59:43Z  2019-02-23T02:49:38Z   \n28331  AVqkIhxunnc1JgDc3kg_  2017-03-06T14:59:43Z  2019-02-23T02:49:38Z   \n\n                                                    name  \\\n0      AmazonBasics AAA Performance Alkaline Batterie...   \n1      AmazonBasics AAA Performance Alkaline Batterie...   \n2      AmazonBasics AAA Performance Alkaline Batterie...   \n3      AmazonBasics AAA Performance Alkaline Batterie...   \n4      AmazonBasics AAA Performance Alkaline Batterie...   \n...                                                  ...   \n28327  Fire HD 8 Tablet with Alexa, 8 HD Display, 16 ...   \n28328  Fire HD 8 Tablet with Alexa, 8 HD Display, 16 ...   \n28329  Fire HD 8 Tablet with Alexa, 8 HD Display, 16 ...   \n28330  Fire HD 8 Tablet with Alexa, 8 HD Display, 16 ...   \n28331  Fire HD 8 Tablet with Alexa, 8 HD Display, 16 ...   \n\n                       asins         brand  \\\n0      B00QWO9P0O,B00LH3DMUO  Amazonbasics   \n1      B00QWO9P0O,B00LH3DMUO  Amazonbasics   \n2      B00QWO9P0O,B00LH3DMUO  Amazonbasics   \n3      B00QWO9P0O,B00LH3DMUO  Amazonbasics   \n4      B00QWO9P0O,B00LH3DMUO  Amazonbasics   \n...                      ...           ...   \n28327             B018T075DC        Amazon   \n28328             B018T075DC        Amazon   \n28329             B018T075DC        Amazon   \n28330             B018T075DC        Amazon   \n28331             B018T075DC        Amazon   \n\n                                              categories primaryCategories  \\\n0      AA,AAA,Health,Electronics,Health & Household,C...   Health & Beauty   \n1      AA,AAA,Health,Electronics,Health & Household,C...   Health & Beauty   \n2      AA,AAA,Health,Electronics,Health & Household,C...   Health & Beauty   \n3      AA,AAA,Health,Electronics,Health & Household,C...   Health & Beauty   \n4      AA,AAA,Health,Electronics,Health & Household,C...   Health & Beauty   \n...                                                  ...               ...   \n28327  Fire Tablets,Tablets,All Tablets,Amazon Tablet...       Electronics   \n28328  Fire Tablets,Tablets,All Tablets,Amazon Tablet...       Electronics   \n28329  Fire Tablets,Tablets,All Tablets,Amazon Tablet...       Electronics   \n28330  Fire Tablets,Tablets,All Tablets,Amazon Tablet...       Electronics   \n28331  Fire Tablets,Tablets,All Tablets,Amazon Tablet...       Electronics   \n\n                                               imageURLs  \\\n0      https://images-na.ssl-images-amazon.com/images...   \n1      https://images-na.ssl-images-amazon.com/images...   \n2      https://images-na.ssl-images-amazon.com/images...   \n3      https://images-na.ssl-images-amazon.com/images...   \n4      https://images-na.ssl-images-amazon.com/images...   \n...                                                  ...   \n28327  https://www.upccodesearch.com/images/barcode/0...   \n28328  https://www.upccodesearch.com/images/barcode/0...   \n28329  https://www.upccodesearch.com/images/barcode/0...   \n28330  https://www.upccodesearch.com/images/barcode/0...   \n28331  https://www.upccodesearch.com/images/barcode/0...   \n\n                                                    keys  ...  \\\n0      amazonbasics/hl002619,amazonbasicsaaaperforman...  ...   \n1      amazonbasics/hl002619,amazonbasicsaaaperforman...  ...   \n2      amazonbasics/hl002619,amazonbasicsaaaperforman...  ...   \n3      amazonbasics/hl002619,amazonbasicsaaaperforman...  ...   \n4      amazonbasics/hl002619,amazonbasicsaaaperforman...  ...   \n...                                                  ...  ...   \n28327  amazon/b018t075dc,firehd8tabletwithalexa8hddis...  ...   \n28328  amazon/b018t075dc,firehd8tabletwithalexa8hddis...  ...   \n28329  amazon/b018t075dc,firehd8tabletwithalexa8hddis...  ...   \n28330  amazon/b018t075dc,firehd8tabletwithalexa8hddis...  ...   \n28331  amazon/b018t075dc,firehd8tabletwithalexa8hddis...  ...   \n\n      reviews.didPurchase reviews.doRecommend reviews.id reviews.numHelpful  \\\n0                     NaN                 NaN        NaN                NaN   \n1                     NaN                 NaN        NaN                NaN   \n2                     NaN                 NaN        NaN                NaN   \n3                     NaN                 NaN        NaN                NaN   \n4                     NaN                 NaN        NaN                NaN   \n...                   ...                 ...        ...                ...   \n28327                 NaN                True        NaN                0.0   \n28328                 NaN                True        NaN                0.0   \n28329                 NaN                True        NaN                0.0   \n28330                 NaN                True        NaN                0.0   \n28331                 NaN                True        NaN                0.0   \n\n      reviews.rating                                 reviews.sourceURLs  \\\n0                  3  https://www.amazon.com/product-reviews/B00QWO9...   \n1                  4  https://www.amazon.com/product-reviews/B00QWO9...   \n2                  5  https://www.amazon.com/product-reviews/B00QWO9...   \n3                  5  https://www.amazon.com/product-reviews/B00QWO9...   \n4                  5  https://www.amazon.com/product-reviews/B00QWO9...   \n...              ...                                                ...   \n28327              5  http://reviews.bestbuy.com/3545/5620410/review...   \n28328              4  http://reviews.bestbuy.com/3545/5620410/review...   \n28329              5  http://reviews.bestbuy.com/3545/5620410/review...   \n28330              5  http://reviews.bestbuy.com/3545/5620410/review...   \n28331              4  http://reviews.bestbuy.com/3545/5620410/review...   \n\n                                            reviews.text  \\\n0      I order 3 of them and one of the item is bad q...   \n1      Bulk is always the less expensive way to go fo...   \n2      Well they are not Duracell but for the price i...   \n3      Seem to work as well as name brand batteries a...   \n4      These batteries are very long lasting the pric...   \n...                                                  ...   \n28327  I got 2 of these for my 8 yr old twins. My 11 ...   \n28328  I bought this for my niece for a Christmas gif...   \n28329  Very nice for light internet browsing, keeping...   \n28330  This Tablet does absolutely everything I want!...   \n28331  At ninety dollars, the expectionations are low...   \n\n                                           reviews.title  reviews.username  \\\n0      ... 3 of them and one of the item is bad quali...        Byger yang   \n1      ... always the less expensive way to go for pr...              ByMG   \n2      ... are not Duracell but for the price i am ha...  BySharon Lambert   \n3      ... as well as name brand batteries at a much ...     Bymark sexson   \n4      ... batteries are very long lasting the price ...           Bylinda   \n...                                                  ...               ...   \n28327                                          Xmas gift    Mom2twinsplus1   \n28328                          yes it is a great tablet.         fireman21   \n28329                       You get a lot for the price!    suzannalicious   \n28330       You get the entire World for less than $100!            SandyJ   \n28331                       You get what your paying for              Hung   \n\n                                              sourceURLs  \n0      https://www.barcodable.com/upc/841710106442,ht...  \n1      https://www.barcodable.com/upc/841710106442,ht...  \n2      https://www.barcodable.com/upc/841710106442,ht...  \n3      https://www.barcodable.com/upc/841710106442,ht...  \n4      https://www.barcodable.com/upc/841710106442,ht...  \n...                                                  ...  \n28327  http://reviews.bestbuy.com/3545/5620410/review...  \n28328  http://reviews.bestbuy.com/3545/5620410/review...  \n28329  http://reviews.bestbuy.com/3545/5620410/review...  \n28330  http://reviews.bestbuy.com/3545/5620410/review...  \n28331  http://reviews.bestbuy.com/3545/5620410/review...  \n\n[28332 rows x 24 columns]",
      "text/html": "<div>\n<style scoped>\n    .dataframe tbody tr th:only-of-type {\n        vertical-align: middle;\n    }\n\n    .dataframe tbody tr th {\n        vertical-align: top;\n    }\n\n    .dataframe thead th {\n        text-align: right;\n    }\n</style>\n<table border=\"1\" class=\"dataframe\">\n  <thead>\n    <tr style=\"text-align: right;\">\n      <th></th>\n      <th>id</th>\n      <th>dateAdded</th>\n      <th>dateUpdated</th>\n      <th>name</th>\n      <th>asins</th>\n      <th>brand</th>\n      <th>categories</th>\n      <th>primaryCategories</th>\n      <th>imageURLs</th>\n      <th>keys</th>\n      <th>...</th>\n      <th>reviews.didPurchase</th>\n      <th>reviews.doRecommend</th>\n      <th>reviews.id</th>\n      <th>reviews.numHelpful</th>\n      <th>reviews.rating</th>\n      <th>reviews.sourceURLs</th>\n      <th>reviews.text</th>\n      <th>reviews.title</th>\n      <th>reviews.username</th>\n      <th>sourceURLs</th>\n    </tr>\n  </thead>\n  <tbody>\n    <tr>\n      <th>0</th>\n      <td>AVpgNzjwLJeJML43Kpxn</td>\n      <td>2015-10-30T08:59:32Z</td>\n      <td>2019-04-25T09:08:16Z</td>\n      <td>AmazonBasics AAA Performance Alkaline Batterie...</td>\n      <td>B00QWO9P0O,B00LH3DMUO</td>\n      <td>Amazonbasics</td>\n      <td>AA,AAA,Health,Electronics,Health &amp; Household,C...</td>\n      <td>Health &amp; Beauty</td>\n      <td>https://images-na.ssl-images-amazon.com/images...</td>\n      <td>amazonbasics/hl002619,amazonbasicsaaaperforman...</td>\n      <td>...</td>\n      <td>NaN</td>\n      <td>NaN</td>\n      <td>NaN</td>\n      <td>NaN</td>\n      <td>3</td>\n      <td>https://www.amazon.com/product-reviews/B00QWO9...</td>\n      <td>I order 3 of them and one of the item is bad q...</td>\n      <td>... 3 of them and one of the item is bad quali...</td>\n      <td>Byger yang</td>\n      <td>https://www.barcodable.com/upc/841710106442,ht...</td>\n    </tr>\n    <tr>\n      <th>1</th>\n      <td>AVpgNzjwLJeJML43Kpxn</td>\n      <td>2015-10-30T08:59:32Z</td>\n      <td>2019-04-25T09:08:16Z</td>\n      <td>AmazonBasics AAA Performance Alkaline Batterie...</td>\n      <td>B00QWO9P0O,B00LH3DMUO</td>\n      <td>Amazonbasics</td>\n      <td>AA,AAA,Health,Electronics,Health &amp; Household,C...</td>\n      <td>Health &amp; Beauty</td>\n      <td>https://images-na.ssl-images-amazon.com/images...</td>\n      <td>amazonbasics/hl002619,amazonbasicsaaaperforman...</td>\n      <td>...</td>\n      <td>NaN</td>\n      <td>NaN</td>\n      <td>NaN</td>\n      <td>NaN</td>\n      <td>4</td>\n      <td>https://www.amazon.com/product-reviews/B00QWO9...</td>\n      <td>Bulk is always the less expensive way to go fo...</td>\n      <td>... always the less expensive way to go for pr...</td>\n      <td>ByMG</td>\n      <td>https://www.barcodable.com/upc/841710106442,ht...</td>\n    </tr>\n    <tr>\n      <th>2</th>\n      <td>AVpgNzjwLJeJML43Kpxn</td>\n      <td>2015-10-30T08:59:32Z</td>\n      <td>2019-04-25T09:08:16Z</td>\n      <td>AmazonBasics AAA Performance Alkaline Batterie...</td>\n      <td>B00QWO9P0O,B00LH3DMUO</td>\n      <td>Amazonbasics</td>\n      <td>AA,AAA,Health,Electronics,Health &amp; Household,C...</td>\n      <td>Health &amp; Beauty</td>\n      <td>https://images-na.ssl-images-amazon.com/images...</td>\n      <td>amazonbasics/hl002619,amazonbasicsaaaperforman...</td>\n      <td>...</td>\n      <td>NaN</td>\n      <td>NaN</td>\n      <td>NaN</td>\n      <td>NaN</td>\n      <td>5</td>\n      <td>https://www.amazon.com/product-reviews/B00QWO9...</td>\n      <td>Well they are not Duracell but for the price i...</td>\n      <td>... are not Duracell but for the price i am ha...</td>\n      <td>BySharon Lambert</td>\n      <td>https://www.barcodable.com/upc/841710106442,ht...</td>\n    </tr>\n    <tr>\n      <th>3</th>\n      <td>AVpgNzjwLJeJML43Kpxn</td>\n      <td>2015-10-30T08:59:32Z</td>\n      <td>2019-04-25T09:08:16Z</td>\n      <td>AmazonBasics AAA Performance Alkaline Batterie...</td>\n      <td>B00QWO9P0O,B00LH3DMUO</td>\n      <td>Amazonbasics</td>\n      <td>AA,AAA,Health,Electronics,Health &amp; Household,C...</td>\n      <td>Health &amp; Beauty</td>\n      <td>https://images-na.ssl-images-amazon.com/images...</td>\n      <td>amazonbasics/hl002619,amazonbasicsaaaperforman...</td>\n      <td>...</td>\n      <td>NaN</td>\n      <td>NaN</td>\n      <td>NaN</td>\n      <td>NaN</td>\n      <td>5</td>\n      <td>https://www.amazon.com/product-reviews/B00QWO9...</td>\n      <td>Seem to work as well as name brand batteries a...</td>\n      <td>... as well as name brand batteries at a much ...</td>\n      <td>Bymark sexson</td>\n      <td>https://www.barcodable.com/upc/841710106442,ht...</td>\n    </tr>\n    <tr>\n      <th>4</th>\n      <td>AVpgNzjwLJeJML43Kpxn</td>\n      <td>2015-10-30T08:59:32Z</td>\n      <td>2019-04-25T09:08:16Z</td>\n      <td>AmazonBasics AAA Performance Alkaline Batterie...</td>\n      <td>B00QWO9P0O,B00LH3DMUO</td>\n      <td>Amazonbasics</td>\n      <td>AA,AAA,Health,Electronics,Health &amp; Household,C...</td>\n      <td>Health &amp; Beauty</td>\n      <td>https://images-na.ssl-images-amazon.com/images...</td>\n      <td>amazonbasics/hl002619,amazonbasicsaaaperforman...</td>\n      <td>...</td>\n      <td>NaN</td>\n      <td>NaN</td>\n      <td>NaN</td>\n      <td>NaN</td>\n      <td>5</td>\n      <td>https://www.amazon.com/product-reviews/B00QWO9...</td>\n      <td>These batteries are very long lasting the pric...</td>\n      <td>... batteries are very long lasting the price ...</td>\n      <td>Bylinda</td>\n      <td>https://www.barcodable.com/upc/841710106442,ht...</td>\n    </tr>\n    <tr>\n      <th>...</th>\n      <td>...</td>\n      <td>...</td>\n      <td>...</td>\n      <td>...</td>\n      <td>...</td>\n      <td>...</td>\n      <td>...</td>\n      <td>...</td>\n      <td>...</td>\n      <td>...</td>\n      <td>...</td>\n      <td>...</td>\n      <td>...</td>\n      <td>...</td>\n      <td>...</td>\n      <td>...</td>\n      <td>...</td>\n      <td>...</td>\n      <td>...</td>\n      <td>...</td>\n      <td>...</td>\n    </tr>\n    <tr>\n      <th>28327</th>\n      <td>AVqkIhxunnc1JgDc3kg_</td>\n      <td>2017-03-06T14:59:43Z</td>\n      <td>2019-02-23T02:49:38Z</td>\n      <td>Fire HD 8 Tablet with Alexa, 8 HD Display, 16 ...</td>\n      <td>B018T075DC</td>\n      <td>Amazon</td>\n      <td>Fire Tablets,Tablets,All Tablets,Amazon Tablet...</td>\n      <td>Electronics</td>\n      <td>https://www.upccodesearch.com/images/barcode/0...</td>\n      <td>amazon/b018t075dc,firehd8tabletwithalexa8hddis...</td>\n      <td>...</td>\n      <td>NaN</td>\n      <td>True</td>\n      <td>NaN</td>\n      <td>0.0</td>\n      <td>5</td>\n      <td>http://reviews.bestbuy.com/3545/5620410/review...</td>\n      <td>I got 2 of these for my 8 yr old twins. My 11 ...</td>\n      <td>Xmas gift</td>\n      <td>Mom2twinsplus1</td>\n      <td>http://reviews.bestbuy.com/3545/5620410/review...</td>\n    </tr>\n    <tr>\n      <th>28328</th>\n      <td>AVqkIhxunnc1JgDc3kg_</td>\n      <td>2017-03-06T14:59:43Z</td>\n      <td>2019-02-23T02:49:38Z</td>\n      <td>Fire HD 8 Tablet with Alexa, 8 HD Display, 16 ...</td>\n      <td>B018T075DC</td>\n      <td>Amazon</td>\n      <td>Fire Tablets,Tablets,All Tablets,Amazon Tablet...</td>\n      <td>Electronics</td>\n      <td>https://www.upccodesearch.com/images/barcode/0...</td>\n      <td>amazon/b018t075dc,firehd8tabletwithalexa8hddis...</td>\n      <td>...</td>\n      <td>NaN</td>\n      <td>True</td>\n      <td>NaN</td>\n      <td>0.0</td>\n      <td>4</td>\n      <td>http://reviews.bestbuy.com/3545/5620410/review...</td>\n      <td>I bought this for my niece for a Christmas gif...</td>\n      <td>yes it is a great tablet.</td>\n      <td>fireman21</td>\n      <td>http://reviews.bestbuy.com/3545/5620410/review...</td>\n    </tr>\n    <tr>\n      <th>28329</th>\n      <td>AVqkIhxunnc1JgDc3kg_</td>\n      <td>2017-03-06T14:59:43Z</td>\n      <td>2019-02-23T02:49:38Z</td>\n      <td>Fire HD 8 Tablet with Alexa, 8 HD Display, 16 ...</td>\n      <td>B018T075DC</td>\n      <td>Amazon</td>\n      <td>Fire Tablets,Tablets,All Tablets,Amazon Tablet...</td>\n      <td>Electronics</td>\n      <td>https://www.upccodesearch.com/images/barcode/0...</td>\n      <td>amazon/b018t075dc,firehd8tabletwithalexa8hddis...</td>\n      <td>...</td>\n      <td>NaN</td>\n      <td>True</td>\n      <td>NaN</td>\n      <td>0.0</td>\n      <td>5</td>\n      <td>http://reviews.bestbuy.com/3545/5620410/review...</td>\n      <td>Very nice for light internet browsing, keeping...</td>\n      <td>You get a lot for the price!</td>\n      <td>suzannalicious</td>\n      <td>http://reviews.bestbuy.com/3545/5620410/review...</td>\n    </tr>\n    <tr>\n      <th>28330</th>\n      <td>AVqkIhxunnc1JgDc3kg_</td>\n      <td>2017-03-06T14:59:43Z</td>\n      <td>2019-02-23T02:49:38Z</td>\n      <td>Fire HD 8 Tablet with Alexa, 8 HD Display, 16 ...</td>\n      <td>B018T075DC</td>\n      <td>Amazon</td>\n      <td>Fire Tablets,Tablets,All Tablets,Amazon Tablet...</td>\n      <td>Electronics</td>\n      <td>https://www.upccodesearch.com/images/barcode/0...</td>\n      <td>amazon/b018t075dc,firehd8tabletwithalexa8hddis...</td>\n      <td>...</td>\n      <td>NaN</td>\n      <td>True</td>\n      <td>NaN</td>\n      <td>0.0</td>\n      <td>5</td>\n      <td>http://reviews.bestbuy.com/3545/5620410/review...</td>\n      <td>This Tablet does absolutely everything I want!...</td>\n      <td>You get the entire World for less than $100!</td>\n      <td>SandyJ</td>\n      <td>http://reviews.bestbuy.com/3545/5620410/review...</td>\n    </tr>\n    <tr>\n      <th>28331</th>\n      <td>AVqkIhxunnc1JgDc3kg_</td>\n      <td>2017-03-06T14:59:43Z</td>\n      <td>2019-02-23T02:49:38Z</td>\n      <td>Fire HD 8 Tablet with Alexa, 8 HD Display, 16 ...</td>\n      <td>B018T075DC</td>\n      <td>Amazon</td>\n      <td>Fire Tablets,Tablets,All Tablets,Amazon Tablet...</td>\n      <td>Electronics</td>\n      <td>https://www.upccodesearch.com/images/barcode/0...</td>\n      <td>amazon/b018t075dc,firehd8tabletwithalexa8hddis...</td>\n      <td>...</td>\n      <td>NaN</td>\n      <td>True</td>\n      <td>NaN</td>\n      <td>0.0</td>\n      <td>4</td>\n      <td>http://reviews.bestbuy.com/3545/5620410/review...</td>\n      <td>At ninety dollars, the expectionations are low...</td>\n      <td>You get what your paying for</td>\n      <td>Hung</td>\n      <td>http://reviews.bestbuy.com/3545/5620410/review...</td>\n    </tr>\n  </tbody>\n</table>\n<p>28332 rows × 24 columns</p>\n</div>"
     },
     "execution_count": 2,
     "metadata": {},
     "output_type": "execute_result"
    }
   ],
   "source": [
    "csv_path = \"data/Datafiniti_Amazon_Consumer_Reviews_of_Amazon_Products_May19.csv\"\n",
    "df = pd.read_csv(csv_path)\n",
    "df"
   ],
   "metadata": {
    "collapsed": false
   }
  },
  {
   "cell_type": "code",
   "execution_count": 3,
   "outputs": [
    {
     "name": "stdout",
     "output_type": "stream",
     "text": [
      "<class 'pandas.core.frame.DataFrame'>\n",
      "RangeIndex: 28332 entries, 0 to 28331\n",
      "Data columns (total 24 columns):\n",
      " #   Column               Non-Null Count  Dtype  \n",
      "---  ------               --------------  -----  \n",
      " 0   id                   28332 non-null  object \n",
      " 1   dateAdded            28332 non-null  object \n",
      " 2   dateUpdated          28332 non-null  object \n",
      " 3   name                 28332 non-null  object \n",
      " 4   asins                28332 non-null  object \n",
      " 5   brand                28332 non-null  object \n",
      " 6   categories           28332 non-null  object \n",
      " 7   primaryCategories    28332 non-null  object \n",
      " 8   imageURLs            28332 non-null  object \n",
      " 9   keys                 28332 non-null  object \n",
      " 10  manufacturer         28332 non-null  object \n",
      " 11  manufacturerNumber   28332 non-null  object \n",
      " 12  reviews.date         28332 non-null  object \n",
      " 13  reviews.dateSeen     28332 non-null  object \n",
      " 14  reviews.didPurchase  9 non-null      object \n",
      " 15  reviews.doRecommend  16086 non-null  object \n",
      " 16  reviews.id           41 non-null     float64\n",
      " 17  reviews.numHelpful   16115 non-null  float64\n",
      " 18  reviews.rating       28332 non-null  int64  \n",
      " 19  reviews.sourceURLs   28332 non-null  object \n",
      " 20  reviews.text         28332 non-null  object \n",
      " 21  reviews.title        28332 non-null  object \n",
      " 22  reviews.username     28332 non-null  object \n",
      " 23  sourceURLs           28332 non-null  object \n",
      "dtypes: float64(2), int64(1), object(21)\n",
      "memory usage: 5.2+ MB\n"
     ]
    }
   ],
   "source": [
    "df.info()"
   ],
   "metadata": {
    "collapsed": false
   }
  },
  {
   "cell_type": "code",
   "execution_count": 4,
   "outputs": [
    {
     "name": "stdout",
     "output_type": "stream",
     "text": [
      "brand\n",
      "Amazon          16153\n",
      "Amazonbasics    12169\n",
      "AmazonBasics       10\n",
      "Name: brand, dtype: int64\n",
      "\n",
      "reviews.didPurchase\n",
      "True     8\n",
      "False    1\n",
      "Name: reviews.didPurchase, dtype: int64\n",
      "\n",
      "reviews.doRecommend\n",
      "True     15353\n",
      "False      733\n",
      "Name: reviews.doRecommend, dtype: int64\n",
      "\n",
      "reviews.id\n",
      "42\n"
     ]
    }
   ],
   "source": [
    "print('brand')\n",
    "print(df['brand'].value_counts())\n",
    "print()\n",
    "print('reviews.didPurchase')\n",
    "print(df['reviews.didPurchase'].value_counts())\n",
    "print()\n",
    "print('reviews.doRecommend')\n",
    "print(df['reviews.doRecommend'].value_counts())\n",
    "print()\n",
    "print('reviews.id')\n",
    "print(df['reviews.id'].unique().size)"
   ],
   "metadata": {
    "collapsed": false
   }
  },
  {
   "cell_type": "code",
   "execution_count": 5,
   "outputs": [
    {
     "data": {
      "text/plain": "                         id             dateAdded           dateUpdated  \\\n0      AVpgNzjwLJeJML43Kpxn  2015-10-30T08:59:32Z  2019-04-25T09:08:16Z   \n1      AVpgNzjwLJeJML43Kpxn  2015-10-30T08:59:32Z  2019-04-25T09:08:16Z   \n2      AVpgNzjwLJeJML43Kpxn  2015-10-30T08:59:32Z  2019-04-25T09:08:16Z   \n3      AVpgNzjwLJeJML43Kpxn  2015-10-30T08:59:32Z  2019-04-25T09:08:16Z   \n4      AVpgNzjwLJeJML43Kpxn  2015-10-30T08:59:32Z  2019-04-25T09:08:16Z   \n...                     ...                   ...                   ...   \n28327  AVqkIhxunnc1JgDc3kg_  2017-03-06T14:59:43Z  2019-02-23T02:49:38Z   \n28328  AVqkIhxunnc1JgDc3kg_  2017-03-06T14:59:43Z  2019-02-23T02:49:38Z   \n28329  AVqkIhxunnc1JgDc3kg_  2017-03-06T14:59:43Z  2019-02-23T02:49:38Z   \n28330  AVqkIhxunnc1JgDc3kg_  2017-03-06T14:59:43Z  2019-02-23T02:49:38Z   \n28331  AVqkIhxunnc1JgDc3kg_  2017-03-06T14:59:43Z  2019-02-23T02:49:38Z   \n\n                                                    name  \\\n0      AmazonBasics AAA Performance Alkaline Batterie...   \n1      AmazonBasics AAA Performance Alkaline Batterie...   \n2      AmazonBasics AAA Performance Alkaline Batterie...   \n3      AmazonBasics AAA Performance Alkaline Batterie...   \n4      AmazonBasics AAA Performance Alkaline Batterie...   \n...                                                  ...   \n28327  Fire HD 8 Tablet with Alexa, 8 HD Display, 16 ...   \n28328  Fire HD 8 Tablet with Alexa, 8 HD Display, 16 ...   \n28329  Fire HD 8 Tablet with Alexa, 8 HD Display, 16 ...   \n28330  Fire HD 8 Tablet with Alexa, 8 HD Display, 16 ...   \n28331  Fire HD 8 Tablet with Alexa, 8 HD Display, 16 ...   \n\n                       asins         brand  \\\n0      B00QWO9P0O,B00LH3DMUO  Amazonbasics   \n1      B00QWO9P0O,B00LH3DMUO  Amazonbasics   \n2      B00QWO9P0O,B00LH3DMUO  Amazonbasics   \n3      B00QWO9P0O,B00LH3DMUO  Amazonbasics   \n4      B00QWO9P0O,B00LH3DMUO  Amazonbasics   \n...                      ...           ...   \n28327             B018T075DC        Amazon   \n28328             B018T075DC        Amazon   \n28329             B018T075DC        Amazon   \n28330             B018T075DC        Amazon   \n28331             B018T075DC        Amazon   \n\n                                              categories primaryCategories  \\\n0      AA,AAA,Health,Electronics,Health & Household,C...   Health & Beauty   \n1      AA,AAA,Health,Electronics,Health & Household,C...   Health & Beauty   \n2      AA,AAA,Health,Electronics,Health & Household,C...   Health & Beauty   \n3      AA,AAA,Health,Electronics,Health & Household,C...   Health & Beauty   \n4      AA,AAA,Health,Electronics,Health & Household,C...   Health & Beauty   \n...                                                  ...               ...   \n28327  Fire Tablets,Tablets,All Tablets,Amazon Tablet...       Electronics   \n28328  Fire Tablets,Tablets,All Tablets,Amazon Tablet...       Electronics   \n28329  Fire Tablets,Tablets,All Tablets,Amazon Tablet...       Electronics   \n28330  Fire Tablets,Tablets,All Tablets,Amazon Tablet...       Electronics   \n28331  Fire Tablets,Tablets,All Tablets,Amazon Tablet...       Electronics   \n\n       manufacturer manufacturerNumber              reviews.date  \\\n0      AmazonBasics          HL-002619  2017-03-02T00:00:00.000Z   \n1      AmazonBasics          HL-002619  2016-08-31T00:00:00.000Z   \n2      AmazonBasics          HL-002619  2016-12-06T00:00:00.000Z   \n3      AmazonBasics          HL-002619  2016-03-28T00:00:00.000Z   \n4      AmazonBasics          HL-002619  2017-04-22T00:00:00.000Z   \n...             ...                ...                       ...   \n28327        Amazon          53-004485  2016-12-07T00:00:00.000Z   \n28328        Amazon          53-004485  2017-01-20T00:00:00.000Z   \n28329        Amazon          53-004485  2017-01-30T00:00:00.000Z   \n28330        Amazon          53-004485  2017-02-17T00:00:00.000Z   \n28331        Amazon          53-004485  2016-12-23T00:00:00.000Z   \n\n      reviews.doRecommend  reviews.numHelpful  reviews.rating  \\\n0                     NaN                 NaN               3   \n1                     NaN                 NaN               4   \n2                     NaN                 NaN               5   \n3                     NaN                 NaN               5   \n4                     NaN                 NaN               5   \n...                   ...                 ...             ...   \n28327                True                 0.0               5   \n28328                True                 0.0               4   \n28329                True                 0.0               5   \n28330                True                 0.0               5   \n28331                True                 0.0               4   \n\n                                      reviews.sourceURLs  \\\n0      https://www.amazon.com/product-reviews/B00QWO9...   \n1      https://www.amazon.com/product-reviews/B00QWO9...   \n2      https://www.amazon.com/product-reviews/B00QWO9...   \n3      https://www.amazon.com/product-reviews/B00QWO9...   \n4      https://www.amazon.com/product-reviews/B00QWO9...   \n...                                                  ...   \n28327  http://reviews.bestbuy.com/3545/5620410/review...   \n28328  http://reviews.bestbuy.com/3545/5620410/review...   \n28329  http://reviews.bestbuy.com/3545/5620410/review...   \n28330  http://reviews.bestbuy.com/3545/5620410/review...   \n28331  http://reviews.bestbuy.com/3545/5620410/review...   \n\n                                            reviews.text  \\\n0      I order 3 of them and one of the item is bad q...   \n1      Bulk is always the less expensive way to go fo...   \n2      Well they are not Duracell but for the price i...   \n3      Seem to work as well as name brand batteries a...   \n4      These batteries are very long lasting the pric...   \n...                                                  ...   \n28327  I got 2 of these for my 8 yr old twins. My 11 ...   \n28328  I bought this for my niece for a Christmas gif...   \n28329  Very nice for light internet browsing, keeping...   \n28330  This Tablet does absolutely everything I want!...   \n28331  At ninety dollars, the expectionations are low...   \n\n                                           reviews.title  reviews.username  \\\n0      ... 3 of them and one of the item is bad quali...        Byger yang   \n1      ... always the less expensive way to go for pr...              ByMG   \n2      ... are not Duracell but for the price i am ha...  BySharon Lambert   \n3      ... as well as name brand batteries at a much ...     Bymark sexson   \n4      ... batteries are very long lasting the price ...           Bylinda   \n...                                                  ...               ...   \n28327                                          Xmas gift    Mom2twinsplus1   \n28328                          yes it is a great tablet.         fireman21   \n28329                       You get a lot for the price!    suzannalicious   \n28330       You get the entire World for less than $100!            SandyJ   \n28331                       You get what your paying for              Hung   \n\n                                              sourceURLs  \n0      https://www.barcodable.com/upc/841710106442,ht...  \n1      https://www.barcodable.com/upc/841710106442,ht...  \n2      https://www.barcodable.com/upc/841710106442,ht...  \n3      https://www.barcodable.com/upc/841710106442,ht...  \n4      https://www.barcodable.com/upc/841710106442,ht...  \n...                                                  ...  \n28327  http://reviews.bestbuy.com/3545/5620410/review...  \n28328  http://reviews.bestbuy.com/3545/5620410/review...  \n28329  http://reviews.bestbuy.com/3545/5620410/review...  \n28330  http://reviews.bestbuy.com/3545/5620410/review...  \n28331  http://reviews.bestbuy.com/3545/5620410/review...  \n\n[28332 rows x 19 columns]",
      "text/html": "<div>\n<style scoped>\n    .dataframe tbody tr th:only-of-type {\n        vertical-align: middle;\n    }\n\n    .dataframe tbody tr th {\n        vertical-align: top;\n    }\n\n    .dataframe thead th {\n        text-align: right;\n    }\n</style>\n<table border=\"1\" class=\"dataframe\">\n  <thead>\n    <tr style=\"text-align: right;\">\n      <th></th>\n      <th>id</th>\n      <th>dateAdded</th>\n      <th>dateUpdated</th>\n      <th>name</th>\n      <th>asins</th>\n      <th>brand</th>\n      <th>categories</th>\n      <th>primaryCategories</th>\n      <th>manufacturer</th>\n      <th>manufacturerNumber</th>\n      <th>reviews.date</th>\n      <th>reviews.doRecommend</th>\n      <th>reviews.numHelpful</th>\n      <th>reviews.rating</th>\n      <th>reviews.sourceURLs</th>\n      <th>reviews.text</th>\n      <th>reviews.title</th>\n      <th>reviews.username</th>\n      <th>sourceURLs</th>\n    </tr>\n  </thead>\n  <tbody>\n    <tr>\n      <th>0</th>\n      <td>AVpgNzjwLJeJML43Kpxn</td>\n      <td>2015-10-30T08:59:32Z</td>\n      <td>2019-04-25T09:08:16Z</td>\n      <td>AmazonBasics AAA Performance Alkaline Batterie...</td>\n      <td>B00QWO9P0O,B00LH3DMUO</td>\n      <td>Amazonbasics</td>\n      <td>AA,AAA,Health,Electronics,Health &amp; Household,C...</td>\n      <td>Health &amp; Beauty</td>\n      <td>AmazonBasics</td>\n      <td>HL-002619</td>\n      <td>2017-03-02T00:00:00.000Z</td>\n      <td>NaN</td>\n      <td>NaN</td>\n      <td>3</td>\n      <td>https://www.amazon.com/product-reviews/B00QWO9...</td>\n      <td>I order 3 of them and one of the item is bad q...</td>\n      <td>... 3 of them and one of the item is bad quali...</td>\n      <td>Byger yang</td>\n      <td>https://www.barcodable.com/upc/841710106442,ht...</td>\n    </tr>\n    <tr>\n      <th>1</th>\n      <td>AVpgNzjwLJeJML43Kpxn</td>\n      <td>2015-10-30T08:59:32Z</td>\n      <td>2019-04-25T09:08:16Z</td>\n      <td>AmazonBasics AAA Performance Alkaline Batterie...</td>\n      <td>B00QWO9P0O,B00LH3DMUO</td>\n      <td>Amazonbasics</td>\n      <td>AA,AAA,Health,Electronics,Health &amp; Household,C...</td>\n      <td>Health &amp; Beauty</td>\n      <td>AmazonBasics</td>\n      <td>HL-002619</td>\n      <td>2016-08-31T00:00:00.000Z</td>\n      <td>NaN</td>\n      <td>NaN</td>\n      <td>4</td>\n      <td>https://www.amazon.com/product-reviews/B00QWO9...</td>\n      <td>Bulk is always the less expensive way to go fo...</td>\n      <td>... always the less expensive way to go for pr...</td>\n      <td>ByMG</td>\n      <td>https://www.barcodable.com/upc/841710106442,ht...</td>\n    </tr>\n    <tr>\n      <th>2</th>\n      <td>AVpgNzjwLJeJML43Kpxn</td>\n      <td>2015-10-30T08:59:32Z</td>\n      <td>2019-04-25T09:08:16Z</td>\n      <td>AmazonBasics AAA Performance Alkaline Batterie...</td>\n      <td>B00QWO9P0O,B00LH3DMUO</td>\n      <td>Amazonbasics</td>\n      <td>AA,AAA,Health,Electronics,Health &amp; Household,C...</td>\n      <td>Health &amp; Beauty</td>\n      <td>AmazonBasics</td>\n      <td>HL-002619</td>\n      <td>2016-12-06T00:00:00.000Z</td>\n      <td>NaN</td>\n      <td>NaN</td>\n      <td>5</td>\n      <td>https://www.amazon.com/product-reviews/B00QWO9...</td>\n      <td>Well they are not Duracell but for the price i...</td>\n      <td>... are not Duracell but for the price i am ha...</td>\n      <td>BySharon Lambert</td>\n      <td>https://www.barcodable.com/upc/841710106442,ht...</td>\n    </tr>\n    <tr>\n      <th>3</th>\n      <td>AVpgNzjwLJeJML43Kpxn</td>\n      <td>2015-10-30T08:59:32Z</td>\n      <td>2019-04-25T09:08:16Z</td>\n      <td>AmazonBasics AAA Performance Alkaline Batterie...</td>\n      <td>B00QWO9P0O,B00LH3DMUO</td>\n      <td>Amazonbasics</td>\n      <td>AA,AAA,Health,Electronics,Health &amp; Household,C...</td>\n      <td>Health &amp; Beauty</td>\n      <td>AmazonBasics</td>\n      <td>HL-002619</td>\n      <td>2016-03-28T00:00:00.000Z</td>\n      <td>NaN</td>\n      <td>NaN</td>\n      <td>5</td>\n      <td>https://www.amazon.com/product-reviews/B00QWO9...</td>\n      <td>Seem to work as well as name brand batteries a...</td>\n      <td>... as well as name brand batteries at a much ...</td>\n      <td>Bymark sexson</td>\n      <td>https://www.barcodable.com/upc/841710106442,ht...</td>\n    </tr>\n    <tr>\n      <th>4</th>\n      <td>AVpgNzjwLJeJML43Kpxn</td>\n      <td>2015-10-30T08:59:32Z</td>\n      <td>2019-04-25T09:08:16Z</td>\n      <td>AmazonBasics AAA Performance Alkaline Batterie...</td>\n      <td>B00QWO9P0O,B00LH3DMUO</td>\n      <td>Amazonbasics</td>\n      <td>AA,AAA,Health,Electronics,Health &amp; Household,C...</td>\n      <td>Health &amp; Beauty</td>\n      <td>AmazonBasics</td>\n      <td>HL-002619</td>\n      <td>2017-04-22T00:00:00.000Z</td>\n      <td>NaN</td>\n      <td>NaN</td>\n      <td>5</td>\n      <td>https://www.amazon.com/product-reviews/B00QWO9...</td>\n      <td>These batteries are very long lasting the pric...</td>\n      <td>... batteries are very long lasting the price ...</td>\n      <td>Bylinda</td>\n      <td>https://www.barcodable.com/upc/841710106442,ht...</td>\n    </tr>\n    <tr>\n      <th>...</th>\n      <td>...</td>\n      <td>...</td>\n      <td>...</td>\n      <td>...</td>\n      <td>...</td>\n      <td>...</td>\n      <td>...</td>\n      <td>...</td>\n      <td>...</td>\n      <td>...</td>\n      <td>...</td>\n      <td>...</td>\n      <td>...</td>\n      <td>...</td>\n      <td>...</td>\n      <td>...</td>\n      <td>...</td>\n      <td>...</td>\n      <td>...</td>\n    </tr>\n    <tr>\n      <th>28327</th>\n      <td>AVqkIhxunnc1JgDc3kg_</td>\n      <td>2017-03-06T14:59:43Z</td>\n      <td>2019-02-23T02:49:38Z</td>\n      <td>Fire HD 8 Tablet with Alexa, 8 HD Display, 16 ...</td>\n      <td>B018T075DC</td>\n      <td>Amazon</td>\n      <td>Fire Tablets,Tablets,All Tablets,Amazon Tablet...</td>\n      <td>Electronics</td>\n      <td>Amazon</td>\n      <td>53-004485</td>\n      <td>2016-12-07T00:00:00.000Z</td>\n      <td>True</td>\n      <td>0.0</td>\n      <td>5</td>\n      <td>http://reviews.bestbuy.com/3545/5620410/review...</td>\n      <td>I got 2 of these for my 8 yr old twins. My 11 ...</td>\n      <td>Xmas gift</td>\n      <td>Mom2twinsplus1</td>\n      <td>http://reviews.bestbuy.com/3545/5620410/review...</td>\n    </tr>\n    <tr>\n      <th>28328</th>\n      <td>AVqkIhxunnc1JgDc3kg_</td>\n      <td>2017-03-06T14:59:43Z</td>\n      <td>2019-02-23T02:49:38Z</td>\n      <td>Fire HD 8 Tablet with Alexa, 8 HD Display, 16 ...</td>\n      <td>B018T075DC</td>\n      <td>Amazon</td>\n      <td>Fire Tablets,Tablets,All Tablets,Amazon Tablet...</td>\n      <td>Electronics</td>\n      <td>Amazon</td>\n      <td>53-004485</td>\n      <td>2017-01-20T00:00:00.000Z</td>\n      <td>True</td>\n      <td>0.0</td>\n      <td>4</td>\n      <td>http://reviews.bestbuy.com/3545/5620410/review...</td>\n      <td>I bought this for my niece for a Christmas gif...</td>\n      <td>yes it is a great tablet.</td>\n      <td>fireman21</td>\n      <td>http://reviews.bestbuy.com/3545/5620410/review...</td>\n    </tr>\n    <tr>\n      <th>28329</th>\n      <td>AVqkIhxunnc1JgDc3kg_</td>\n      <td>2017-03-06T14:59:43Z</td>\n      <td>2019-02-23T02:49:38Z</td>\n      <td>Fire HD 8 Tablet with Alexa, 8 HD Display, 16 ...</td>\n      <td>B018T075DC</td>\n      <td>Amazon</td>\n      <td>Fire Tablets,Tablets,All Tablets,Amazon Tablet...</td>\n      <td>Electronics</td>\n      <td>Amazon</td>\n      <td>53-004485</td>\n      <td>2017-01-30T00:00:00.000Z</td>\n      <td>True</td>\n      <td>0.0</td>\n      <td>5</td>\n      <td>http://reviews.bestbuy.com/3545/5620410/review...</td>\n      <td>Very nice for light internet browsing, keeping...</td>\n      <td>You get a lot for the price!</td>\n      <td>suzannalicious</td>\n      <td>http://reviews.bestbuy.com/3545/5620410/review...</td>\n    </tr>\n    <tr>\n      <th>28330</th>\n      <td>AVqkIhxunnc1JgDc3kg_</td>\n      <td>2017-03-06T14:59:43Z</td>\n      <td>2019-02-23T02:49:38Z</td>\n      <td>Fire HD 8 Tablet with Alexa, 8 HD Display, 16 ...</td>\n      <td>B018T075DC</td>\n      <td>Amazon</td>\n      <td>Fire Tablets,Tablets,All Tablets,Amazon Tablet...</td>\n      <td>Electronics</td>\n      <td>Amazon</td>\n      <td>53-004485</td>\n      <td>2017-02-17T00:00:00.000Z</td>\n      <td>True</td>\n      <td>0.0</td>\n      <td>5</td>\n      <td>http://reviews.bestbuy.com/3545/5620410/review...</td>\n      <td>This Tablet does absolutely everything I want!...</td>\n      <td>You get the entire World for less than $100!</td>\n      <td>SandyJ</td>\n      <td>http://reviews.bestbuy.com/3545/5620410/review...</td>\n    </tr>\n    <tr>\n      <th>28331</th>\n      <td>AVqkIhxunnc1JgDc3kg_</td>\n      <td>2017-03-06T14:59:43Z</td>\n      <td>2019-02-23T02:49:38Z</td>\n      <td>Fire HD 8 Tablet with Alexa, 8 HD Display, 16 ...</td>\n      <td>B018T075DC</td>\n      <td>Amazon</td>\n      <td>Fire Tablets,Tablets,All Tablets,Amazon Tablet...</td>\n      <td>Electronics</td>\n      <td>Amazon</td>\n      <td>53-004485</td>\n      <td>2016-12-23T00:00:00.000Z</td>\n      <td>True</td>\n      <td>0.0</td>\n      <td>4</td>\n      <td>http://reviews.bestbuy.com/3545/5620410/review...</td>\n      <td>At ninety dollars, the expectionations are low...</td>\n      <td>You get what your paying for</td>\n      <td>Hung</td>\n      <td>http://reviews.bestbuy.com/3545/5620410/review...</td>\n    </tr>\n  </tbody>\n</table>\n<p>28332 rows × 19 columns</p>\n</div>"
     },
     "execution_count": 5,
     "metadata": {},
     "output_type": "execute_result"
    }
   ],
   "source": [
    "# dropping unuseful cols, because they mainly contain null values\n",
    "# dateSeen only specifies the date when the review was scraped\n",
    "unuseful_cols = ['reviews.didPurchase', 'reviews.id', 'keys', 'reviews.dateSeen', 'imageURLs']\n",
    "df = df.drop(unuseful_cols, axis=1)\n",
    "df"
   ],
   "metadata": {
    "collapsed": false
   }
  },
  {
   "cell_type": "code",
   "execution_count": 6,
   "outputs": [],
   "source": [
    "# set NaN values to 0\n",
    "df['reviews.numHelpful'] = df['reviews.numHelpful'].fillna(0).astype('int16')\n",
    "df['reviews.doRecommend'] = df['reviews.doRecommend'].fillna(0).astype('int16')\n",
    "# set data types\n",
    "df['reviews.rating'] = df['reviews.rating'].astype('int8')\n",
    "df['reviews.date'] = pd.to_datetime(df['reviews.date'])\n",
    "df['dateAdded'] = pd.to_datetime(df['dateAdded'])\n",
    "df['dateUpdated'] = pd.to_datetime(df['dateUpdated'])"
   ],
   "metadata": {
    "collapsed": false
   }
  },
  {
   "cell_type": "code",
   "execution_count": 7,
   "outputs": [
    {
     "name": "stdout",
     "output_type": "stream",
     "text": [
      "<class 'pandas.core.frame.DataFrame'>\n",
      "RangeIndex: 28332 entries, 0 to 28331\n",
      "Data columns (total 19 columns):\n",
      " #   Column               Non-Null Count  Dtype              \n",
      "---  ------               --------------  -----              \n",
      " 0   id                   28332 non-null  object             \n",
      " 1   dateAdded            28332 non-null  datetime64[ns, UTC]\n",
      " 2   dateUpdated          28332 non-null  datetime64[ns, UTC]\n",
      " 3   name                 28332 non-null  object             \n",
      " 4   asins                28332 non-null  object             \n",
      " 5   brand                28332 non-null  object             \n",
      " 6   categories           28332 non-null  object             \n",
      " 7   primaryCategories    28332 non-null  object             \n",
      " 8   manufacturer         28332 non-null  object             \n",
      " 9   manufacturerNumber   28332 non-null  object             \n",
      " 10  reviews.date         28332 non-null  datetime64[ns, UTC]\n",
      " 11  reviews.doRecommend  28332 non-null  int16              \n",
      " 12  reviews.numHelpful   28332 non-null  int16              \n",
      " 13  reviews.rating       28332 non-null  int8               \n",
      " 14  reviews.sourceURLs   28332 non-null  object             \n",
      " 15  reviews.text         28332 non-null  object             \n",
      " 16  reviews.title        28332 non-null  object             \n",
      " 17  reviews.username     28332 non-null  object             \n",
      " 18  sourceURLs           28332 non-null  object             \n",
      "dtypes: datetime64[ns, UTC](3), int16(2), int8(1), object(13)\n",
      "memory usage: 3.6+ MB\n"
     ]
    }
   ],
   "source": [
    "df.info()"
   ],
   "metadata": {
    "collapsed": false
   }
  },
  {
   "cell_type": "code",
   "execution_count": 8,
   "outputs": [
    {
     "data": {
      "text/plain": "count    28332.000000\nmean         4.514048\nstd          0.934957\nmin          1.000000\n25%          4.000000\n50%          5.000000\n75%          5.000000\nmax          5.000000\nName: reviews.rating, dtype: float64"
     },
     "execution_count": 8,
     "metadata": {},
     "output_type": "execute_result"
    }
   ],
   "source": [
    "df['reviews.rating'].describe()"
   ],
   "metadata": {
    "collapsed": false
   }
  },
  {
   "cell_type": "code",
   "execution_count": 9,
   "outputs": [
    {
     "data": {
      "text/plain": "count    28332.000000\nmean         0.541896\nstd          0.498250\nmin          0.000000\n25%          0.000000\n50%          1.000000\n75%          1.000000\nmax          1.000000\nName: reviews.doRecommend, dtype: float64"
     },
     "execution_count": 9,
     "metadata": {},
     "output_type": "execute_result"
    }
   ],
   "source": [
    "df['reviews.doRecommend'].describe()"
   ],
   "metadata": {
    "collapsed": false
   }
  },
  {
   "cell_type": "code",
   "execution_count": 10,
   "outputs": [
    {
     "data": {
      "text/plain": "0"
     },
     "execution_count": 10,
     "metadata": {},
     "output_type": "execute_result"
    }
   ],
   "source": [
    "# check for duplicates\n",
    "df.duplicated().sum()"
   ],
   "metadata": {
    "collapsed": false
   }
  },
  {
   "cell_type": "code",
   "execution_count": 11,
   "outputs": [
    {
     "name": "stderr",
     "output_type": "stream",
     "text": [
      "C:\\Users\\Koffe\\AppData\\Local\\Temp\\ipykernel_15472\\263625019.py:1: FutureWarning: Treating datetime data as categorical rather than numeric in `.describe` is deprecated and will be removed in a future version of pandas. Specify `datetime_is_numeric=True` to silence this warning and adopt the future behavior now.\n",
      "  df['reviews.date'].describe()\n"
     ]
    },
    {
     "data": {
      "text/plain": "count                         28332\nunique                         1307\ntop       2017-01-23 00:00:00+00:00\nfreq                            532\nfirst     2009-02-26 00:00:00+00:00\nlast      2019-03-25 00:00:00+00:00\nName: reviews.date, dtype: object"
     },
     "execution_count": 11,
     "metadata": {},
     "output_type": "execute_result"
    }
   ],
   "source": [
    "df['reviews.date'].describe()"
   ],
   "metadata": {
    "collapsed": false
   }
  },
  {
   "cell_type": "markdown",
   "source": [
    "Ideen transformation\n",
    "- Time columns auf nur Datum ohne Zeit\n",
    "- neue Spalte Review Tage seit product launch\n",
    "- Kategorien in binären spalten\n",
    "- Länge von review text und title (scaling: scikit MinMaxScaler)\n",
    "- Refactoring\n",
    "- neue Spalte Autor Reviewcount (scaling: log, MinMaxScaler)"
   ],
   "metadata": {
    "collapsed": false
   }
  },
  {
   "cell_type": "markdown",
   "source": [
    "# Data Exploration Moritz"
   ],
   "metadata": {
    "collapsed": false
   }
  },
  {
   "cell_type": "code",
   "execution_count": 17,
   "outputs": [
    {
     "data": {
      "text/plain": "                         id                 dateAdded  \\\n0      AVpgNzjwLJeJML43Kpxn 2015-10-30 08:59:32+00:00   \n1      AVpgNzjwLJeJML43Kpxn 2015-10-30 08:59:32+00:00   \n2      AVpgNzjwLJeJML43Kpxn 2015-10-30 08:59:32+00:00   \n3      AVpgNzjwLJeJML43Kpxn 2015-10-30 08:59:32+00:00   \n4      AVpgNzjwLJeJML43Kpxn 2015-10-30 08:59:32+00:00   \n...                     ...                       ...   \n28327  AVqkIhxunnc1JgDc3kg_ 2017-03-06 14:59:43+00:00   \n28328  AVqkIhxunnc1JgDc3kg_ 2017-03-06 14:59:43+00:00   \n28329  AVqkIhxunnc1JgDc3kg_ 2017-03-06 14:59:43+00:00   \n28330  AVqkIhxunnc1JgDc3kg_ 2017-03-06 14:59:43+00:00   \n28331  AVqkIhxunnc1JgDc3kg_ 2017-03-06 14:59:43+00:00   \n\n                    dateUpdated  \\\n0     2019-04-25 09:08:16+00:00   \n1     2019-04-25 09:08:16+00:00   \n2     2019-04-25 09:08:16+00:00   \n3     2019-04-25 09:08:16+00:00   \n4     2019-04-25 09:08:16+00:00   \n...                         ...   \n28327 2019-02-23 02:49:38+00:00   \n28328 2019-02-23 02:49:38+00:00   \n28329 2019-02-23 02:49:38+00:00   \n28330 2019-02-23 02:49:38+00:00   \n28331 2019-02-23 02:49:38+00:00   \n\n                                                    name  \\\n0      AmazonBasics AAA Performance Alkaline Batterie...   \n1      AmazonBasics AAA Performance Alkaline Batterie...   \n2      AmazonBasics AAA Performance Alkaline Batterie...   \n3      AmazonBasics AAA Performance Alkaline Batterie...   \n4      AmazonBasics AAA Performance Alkaline Batterie...   \n...                                                  ...   \n28327  Fire HD 8 Tablet with Alexa, 8 HD Display, 16 ...   \n28328  Fire HD 8 Tablet with Alexa, 8 HD Display, 16 ...   \n28329  Fire HD 8 Tablet with Alexa, 8 HD Display, 16 ...   \n28330  Fire HD 8 Tablet with Alexa, 8 HD Display, 16 ...   \n28331  Fire HD 8 Tablet with Alexa, 8 HD Display, 16 ...   \n\n                       asins         brand  \\\n0      B00QWO9P0O,B00LH3DMUO  Amazonbasics   \n1      B00QWO9P0O,B00LH3DMUO  Amazonbasics   \n2      B00QWO9P0O,B00LH3DMUO  Amazonbasics   \n3      B00QWO9P0O,B00LH3DMUO  Amazonbasics   \n4      B00QWO9P0O,B00LH3DMUO  Amazonbasics   \n...                      ...           ...   \n28327             B018T075DC        Amazon   \n28328             B018T075DC        Amazon   \n28329             B018T075DC        Amazon   \n28330             B018T075DC        Amazon   \n28331             B018T075DC        Amazon   \n\n                                              categories primaryCategories  \\\n0      AA,AAA,Health,Electronics,Health & Household,C...   Health & Beauty   \n1      AA,AAA,Health,Electronics,Health & Household,C...   Health & Beauty   \n2      AA,AAA,Health,Electronics,Health & Household,C...   Health & Beauty   \n3      AA,AAA,Health,Electronics,Health & Household,C...   Health & Beauty   \n4      AA,AAA,Health,Electronics,Health & Household,C...   Health & Beauty   \n...                                                  ...               ...   \n28327  Fire Tablets,Tablets,All Tablets,Amazon Tablet...       Electronics   \n28328  Fire Tablets,Tablets,All Tablets,Amazon Tablet...       Electronics   \n28329  Fire Tablets,Tablets,All Tablets,Amazon Tablet...       Electronics   \n28330  Fire Tablets,Tablets,All Tablets,Amazon Tablet...       Electronics   \n28331  Fire Tablets,Tablets,All Tablets,Amazon Tablet...       Electronics   \n\n       manufacturer manufacturerNumber              reviews.date  \\\n0      AmazonBasics          HL-002619 2017-03-02 00:00:00+00:00   \n1      AmazonBasics          HL-002619 2016-08-31 00:00:00+00:00   \n2      AmazonBasics          HL-002619 2016-12-06 00:00:00+00:00   \n3      AmazonBasics          HL-002619 2016-03-28 00:00:00+00:00   \n4      AmazonBasics          HL-002619 2017-04-22 00:00:00+00:00   \n...             ...                ...                       ...   \n28327        Amazon          53-004485 2016-12-07 00:00:00+00:00   \n28328        Amazon          53-004485 2017-01-20 00:00:00+00:00   \n28329        Amazon          53-004485 2017-01-30 00:00:00+00:00   \n28330        Amazon          53-004485 2017-02-17 00:00:00+00:00   \n28331        Amazon          53-004485 2016-12-23 00:00:00+00:00   \n\n       reviews.doRecommend  reviews.numHelpful  reviews.rating  \\\n0                        0                   0               3   \n1                        0                   0               4   \n2                        0                   0               5   \n3                        0                   0               5   \n4                        0                   0               5   \n...                    ...                 ...             ...   \n28327                    1                   0               5   \n28328                    1                   0               4   \n28329                    1                   0               5   \n28330                    1                   0               5   \n28331                    1                   0               4   \n\n                                      reviews.sourceURLs  \\\n0      https://www.amazon.com/product-reviews/B00QWO9...   \n1      https://www.amazon.com/product-reviews/B00QWO9...   \n2      https://www.amazon.com/product-reviews/B00QWO9...   \n3      https://www.amazon.com/product-reviews/B00QWO9...   \n4      https://www.amazon.com/product-reviews/B00QWO9...   \n...                                                  ...   \n28327  http://reviews.bestbuy.com/3545/5620410/review...   \n28328  http://reviews.bestbuy.com/3545/5620410/review...   \n28329  http://reviews.bestbuy.com/3545/5620410/review...   \n28330  http://reviews.bestbuy.com/3545/5620410/review...   \n28331  http://reviews.bestbuy.com/3545/5620410/review...   \n\n                                            reviews.text  \\\n0      I order 3 of them and one of the item is bad q...   \n1      Bulk is always the less expensive way to go fo...   \n2      Well they are not Duracell but for the price i...   \n3      Seem to work as well as name brand batteries a...   \n4      These batteries are very long lasting the pric...   \n...                                                  ...   \n28327  I got 2 of these for my 8 yr old twins. My 11 ...   \n28328  I bought this for my niece for a Christmas gif...   \n28329  Very nice for light internet browsing, keeping...   \n28330  This Tablet does absolutely everything I want!...   \n28331  At ninety dollars, the expectionations are low...   \n\n                                           reviews.title  reviews.username  \\\n0      ... 3 of them and one of the item is bad quali...        Byger yang   \n1      ... always the less expensive way to go for pr...              ByMG   \n2      ... are not Duracell but for the price i am ha...  BySharon Lambert   \n3      ... as well as name brand batteries at a much ...     Bymark sexson   \n4      ... batteries are very long lasting the price ...           Bylinda   \n...                                                  ...               ...   \n28327                                          Xmas gift    Mom2twinsplus1   \n28328                          yes it is a great tablet.         fireman21   \n28329                       You get a lot for the price!    suzannalicious   \n28330       You get the entire World for less than $100!            SandyJ   \n28331                       You get what your paying for              Hung   \n\n                                              sourceURLs  \n0      https://www.barcodable.com/upc/841710106442,ht...  \n1      https://www.barcodable.com/upc/841710106442,ht...  \n2      https://www.barcodable.com/upc/841710106442,ht...  \n3      https://www.barcodable.com/upc/841710106442,ht...  \n4      https://www.barcodable.com/upc/841710106442,ht...  \n...                                                  ...  \n28327  http://reviews.bestbuy.com/3545/5620410/review...  \n28328  http://reviews.bestbuy.com/3545/5620410/review...  \n28329  http://reviews.bestbuy.com/3545/5620410/review...  \n28330  http://reviews.bestbuy.com/3545/5620410/review...  \n28331  http://reviews.bestbuy.com/3545/5620410/review...  \n\n[28332 rows x 19 columns]",
      "text/html": "<div>\n<style scoped>\n    .dataframe tbody tr th:only-of-type {\n        vertical-align: middle;\n    }\n\n    .dataframe tbody tr th {\n        vertical-align: top;\n    }\n\n    .dataframe thead th {\n        text-align: right;\n    }\n</style>\n<table border=\"1\" class=\"dataframe\">\n  <thead>\n    <tr style=\"text-align: right;\">\n      <th></th>\n      <th>id</th>\n      <th>dateAdded</th>\n      <th>dateUpdated</th>\n      <th>name</th>\n      <th>asins</th>\n      <th>brand</th>\n      <th>categories</th>\n      <th>primaryCategories</th>\n      <th>manufacturer</th>\n      <th>manufacturerNumber</th>\n      <th>reviews.date</th>\n      <th>reviews.doRecommend</th>\n      <th>reviews.numHelpful</th>\n      <th>reviews.rating</th>\n      <th>reviews.sourceURLs</th>\n      <th>reviews.text</th>\n      <th>reviews.title</th>\n      <th>reviews.username</th>\n      <th>sourceURLs</th>\n    </tr>\n  </thead>\n  <tbody>\n    <tr>\n      <th>0</th>\n      <td>AVpgNzjwLJeJML43Kpxn</td>\n      <td>2015-10-30 08:59:32+00:00</td>\n      <td>2019-04-25 09:08:16+00:00</td>\n      <td>AmazonBasics AAA Performance Alkaline Batterie...</td>\n      <td>B00QWO9P0O,B00LH3DMUO</td>\n      <td>Amazonbasics</td>\n      <td>AA,AAA,Health,Electronics,Health &amp; Household,C...</td>\n      <td>Health &amp; Beauty</td>\n      <td>AmazonBasics</td>\n      <td>HL-002619</td>\n      <td>2017-03-02 00:00:00+00:00</td>\n      <td>0</td>\n      <td>0</td>\n      <td>3</td>\n      <td>https://www.amazon.com/product-reviews/B00QWO9...</td>\n      <td>I order 3 of them and one of the item is bad q...</td>\n      <td>... 3 of them and one of the item is bad quali...</td>\n      <td>Byger yang</td>\n      <td>https://www.barcodable.com/upc/841710106442,ht...</td>\n    </tr>\n    <tr>\n      <th>1</th>\n      <td>AVpgNzjwLJeJML43Kpxn</td>\n      <td>2015-10-30 08:59:32+00:00</td>\n      <td>2019-04-25 09:08:16+00:00</td>\n      <td>AmazonBasics AAA Performance Alkaline Batterie...</td>\n      <td>B00QWO9P0O,B00LH3DMUO</td>\n      <td>Amazonbasics</td>\n      <td>AA,AAA,Health,Electronics,Health &amp; Household,C...</td>\n      <td>Health &amp; Beauty</td>\n      <td>AmazonBasics</td>\n      <td>HL-002619</td>\n      <td>2016-08-31 00:00:00+00:00</td>\n      <td>0</td>\n      <td>0</td>\n      <td>4</td>\n      <td>https://www.amazon.com/product-reviews/B00QWO9...</td>\n      <td>Bulk is always the less expensive way to go fo...</td>\n      <td>... always the less expensive way to go for pr...</td>\n      <td>ByMG</td>\n      <td>https://www.barcodable.com/upc/841710106442,ht...</td>\n    </tr>\n    <tr>\n      <th>2</th>\n      <td>AVpgNzjwLJeJML43Kpxn</td>\n      <td>2015-10-30 08:59:32+00:00</td>\n      <td>2019-04-25 09:08:16+00:00</td>\n      <td>AmazonBasics AAA Performance Alkaline Batterie...</td>\n      <td>B00QWO9P0O,B00LH3DMUO</td>\n      <td>Amazonbasics</td>\n      <td>AA,AAA,Health,Electronics,Health &amp; Household,C...</td>\n      <td>Health &amp; Beauty</td>\n      <td>AmazonBasics</td>\n      <td>HL-002619</td>\n      <td>2016-12-06 00:00:00+00:00</td>\n      <td>0</td>\n      <td>0</td>\n      <td>5</td>\n      <td>https://www.amazon.com/product-reviews/B00QWO9...</td>\n      <td>Well they are not Duracell but for the price i...</td>\n      <td>... are not Duracell but for the price i am ha...</td>\n      <td>BySharon Lambert</td>\n      <td>https://www.barcodable.com/upc/841710106442,ht...</td>\n    </tr>\n    <tr>\n      <th>3</th>\n      <td>AVpgNzjwLJeJML43Kpxn</td>\n      <td>2015-10-30 08:59:32+00:00</td>\n      <td>2019-04-25 09:08:16+00:00</td>\n      <td>AmazonBasics AAA Performance Alkaline Batterie...</td>\n      <td>B00QWO9P0O,B00LH3DMUO</td>\n      <td>Amazonbasics</td>\n      <td>AA,AAA,Health,Electronics,Health &amp; Household,C...</td>\n      <td>Health &amp; Beauty</td>\n      <td>AmazonBasics</td>\n      <td>HL-002619</td>\n      <td>2016-03-28 00:00:00+00:00</td>\n      <td>0</td>\n      <td>0</td>\n      <td>5</td>\n      <td>https://www.amazon.com/product-reviews/B00QWO9...</td>\n      <td>Seem to work as well as name brand batteries a...</td>\n      <td>... as well as name brand batteries at a much ...</td>\n      <td>Bymark sexson</td>\n      <td>https://www.barcodable.com/upc/841710106442,ht...</td>\n    </tr>\n    <tr>\n      <th>4</th>\n      <td>AVpgNzjwLJeJML43Kpxn</td>\n      <td>2015-10-30 08:59:32+00:00</td>\n      <td>2019-04-25 09:08:16+00:00</td>\n      <td>AmazonBasics AAA Performance Alkaline Batterie...</td>\n      <td>B00QWO9P0O,B00LH3DMUO</td>\n      <td>Amazonbasics</td>\n      <td>AA,AAA,Health,Electronics,Health &amp; Household,C...</td>\n      <td>Health &amp; Beauty</td>\n      <td>AmazonBasics</td>\n      <td>HL-002619</td>\n      <td>2017-04-22 00:00:00+00:00</td>\n      <td>0</td>\n      <td>0</td>\n      <td>5</td>\n      <td>https://www.amazon.com/product-reviews/B00QWO9...</td>\n      <td>These batteries are very long lasting the pric...</td>\n      <td>... batteries are very long lasting the price ...</td>\n      <td>Bylinda</td>\n      <td>https://www.barcodable.com/upc/841710106442,ht...</td>\n    </tr>\n    <tr>\n      <th>...</th>\n      <td>...</td>\n      <td>...</td>\n      <td>...</td>\n      <td>...</td>\n      <td>...</td>\n      <td>...</td>\n      <td>...</td>\n      <td>...</td>\n      <td>...</td>\n      <td>...</td>\n      <td>...</td>\n      <td>...</td>\n      <td>...</td>\n      <td>...</td>\n      <td>...</td>\n      <td>...</td>\n      <td>...</td>\n      <td>...</td>\n      <td>...</td>\n    </tr>\n    <tr>\n      <th>28327</th>\n      <td>AVqkIhxunnc1JgDc3kg_</td>\n      <td>2017-03-06 14:59:43+00:00</td>\n      <td>2019-02-23 02:49:38+00:00</td>\n      <td>Fire HD 8 Tablet with Alexa, 8 HD Display, 16 ...</td>\n      <td>B018T075DC</td>\n      <td>Amazon</td>\n      <td>Fire Tablets,Tablets,All Tablets,Amazon Tablet...</td>\n      <td>Electronics</td>\n      <td>Amazon</td>\n      <td>53-004485</td>\n      <td>2016-12-07 00:00:00+00:00</td>\n      <td>1</td>\n      <td>0</td>\n      <td>5</td>\n      <td>http://reviews.bestbuy.com/3545/5620410/review...</td>\n      <td>I got 2 of these for my 8 yr old twins. My 11 ...</td>\n      <td>Xmas gift</td>\n      <td>Mom2twinsplus1</td>\n      <td>http://reviews.bestbuy.com/3545/5620410/review...</td>\n    </tr>\n    <tr>\n      <th>28328</th>\n      <td>AVqkIhxunnc1JgDc3kg_</td>\n      <td>2017-03-06 14:59:43+00:00</td>\n      <td>2019-02-23 02:49:38+00:00</td>\n      <td>Fire HD 8 Tablet with Alexa, 8 HD Display, 16 ...</td>\n      <td>B018T075DC</td>\n      <td>Amazon</td>\n      <td>Fire Tablets,Tablets,All Tablets,Amazon Tablet...</td>\n      <td>Electronics</td>\n      <td>Amazon</td>\n      <td>53-004485</td>\n      <td>2017-01-20 00:00:00+00:00</td>\n      <td>1</td>\n      <td>0</td>\n      <td>4</td>\n      <td>http://reviews.bestbuy.com/3545/5620410/review...</td>\n      <td>I bought this for my niece for a Christmas gif...</td>\n      <td>yes it is a great tablet.</td>\n      <td>fireman21</td>\n      <td>http://reviews.bestbuy.com/3545/5620410/review...</td>\n    </tr>\n    <tr>\n      <th>28329</th>\n      <td>AVqkIhxunnc1JgDc3kg_</td>\n      <td>2017-03-06 14:59:43+00:00</td>\n      <td>2019-02-23 02:49:38+00:00</td>\n      <td>Fire HD 8 Tablet with Alexa, 8 HD Display, 16 ...</td>\n      <td>B018T075DC</td>\n      <td>Amazon</td>\n      <td>Fire Tablets,Tablets,All Tablets,Amazon Tablet...</td>\n      <td>Electronics</td>\n      <td>Amazon</td>\n      <td>53-004485</td>\n      <td>2017-01-30 00:00:00+00:00</td>\n      <td>1</td>\n      <td>0</td>\n      <td>5</td>\n      <td>http://reviews.bestbuy.com/3545/5620410/review...</td>\n      <td>Very nice for light internet browsing, keeping...</td>\n      <td>You get a lot for the price!</td>\n      <td>suzannalicious</td>\n      <td>http://reviews.bestbuy.com/3545/5620410/review...</td>\n    </tr>\n    <tr>\n      <th>28330</th>\n      <td>AVqkIhxunnc1JgDc3kg_</td>\n      <td>2017-03-06 14:59:43+00:00</td>\n      <td>2019-02-23 02:49:38+00:00</td>\n      <td>Fire HD 8 Tablet with Alexa, 8 HD Display, 16 ...</td>\n      <td>B018T075DC</td>\n      <td>Amazon</td>\n      <td>Fire Tablets,Tablets,All Tablets,Amazon Tablet...</td>\n      <td>Electronics</td>\n      <td>Amazon</td>\n      <td>53-004485</td>\n      <td>2017-02-17 00:00:00+00:00</td>\n      <td>1</td>\n      <td>0</td>\n      <td>5</td>\n      <td>http://reviews.bestbuy.com/3545/5620410/review...</td>\n      <td>This Tablet does absolutely everything I want!...</td>\n      <td>You get the entire World for less than $100!</td>\n      <td>SandyJ</td>\n      <td>http://reviews.bestbuy.com/3545/5620410/review...</td>\n    </tr>\n    <tr>\n      <th>28331</th>\n      <td>AVqkIhxunnc1JgDc3kg_</td>\n      <td>2017-03-06 14:59:43+00:00</td>\n      <td>2019-02-23 02:49:38+00:00</td>\n      <td>Fire HD 8 Tablet with Alexa, 8 HD Display, 16 ...</td>\n      <td>B018T075DC</td>\n      <td>Amazon</td>\n      <td>Fire Tablets,Tablets,All Tablets,Amazon Tablet...</td>\n      <td>Electronics</td>\n      <td>Amazon</td>\n      <td>53-004485</td>\n      <td>2016-12-23 00:00:00+00:00</td>\n      <td>1</td>\n      <td>0</td>\n      <td>4</td>\n      <td>http://reviews.bestbuy.com/3545/5620410/review...</td>\n      <td>At ninety dollars, the expectionations are low...</td>\n      <td>You get what your paying for</td>\n      <td>Hung</td>\n      <td>http://reviews.bestbuy.com/3545/5620410/review...</td>\n    </tr>\n  </tbody>\n</table>\n<p>28332 rows × 19 columns</p>\n</div>"
     },
     "execution_count": 17,
     "metadata": {},
     "output_type": "execute_result"
    }
   ],
   "source": [
    "df"
   ],
   "metadata": {
    "collapsed": false
   }
  },
  {
   "cell_type": "code",
   "execution_count": 16,
   "outputs": [
    {
     "data": {
      "text/plain": "<AxesSubplot: >"
     },
     "execution_count": 16,
     "metadata": {},
     "output_type": "execute_result"
    },
    {
     "data": {
      "text/plain": "<Figure size 640x480 with 1 Axes>",
      "image/png": "[encoded data removed]"
     },
     "metadata": {},
     "output_type": "display_data"
    }
   ],
   "source": [
    "df['reviews.rating'].value_counts().plot.bar()"
   ],
   "metadata": {
    "collapsed": false
   }
  },
  {
   "cell_type": "code",
   "execution_count": 19,
   "outputs": [
    {
     "data": {
      "text/plain": "array(['AmazonBasics AAA Performance Alkaline Batteries (36 Count)',\n       'AmazonBasics Nylon CD/DVD Binder (400 Capacity)',\n       'Amazon Echo ‚Äì White', 'Amazon Echo Show - Black',\n       'Echo Spot Pair Kit (Black)',\n       'Fire TV Stick Streaming Media Player Pair Kit',\n       'AmazonBasics AA Performance Alkaline Batteries (48 Count) - Packaging May Vary',\n       'AmazonBasics Ventilated Adjustable Laptop Stand',\n       'AmazonBasics Backpack for Laptops up to 17-inches',\n       'AmazonBasics 11.6-Inch Laptop Sleeve',\n       'AmazonBasics 15.6-Inch Laptop and Tablet Bag',\n       'AmazonBasics External Hard Drive Case',\n       'Expanding Accordion File Folder Plastic Portable Document Organizer Letter Size',\n       'Cat Litter Box Covered Tray Kitten Extra Large Enclosed Hooded Hidden Toilet',\n       'Amazon 9W PowerFast Official OEM USB Charger and Power Adapter for Fire Tablets and Kindle eReaders',\n       'Kindle PowerFast International Charging Kit (for accelerated charging in over 200 countries)',\n       'AmazonBasics Silicone Hot Handle Cover/Holder - Red',\n       'Amazon Kindle Charger Power Adapter Wall Charger And Usb Cable Micro Usb Cord',\n       'Amazon Echo (1st Generationcertified) Color:White Free Shipping',\n       'Amazon Tap Smart Assistant Alexaenabled (black) Brand New',\n       'All-New Kindle E-reader - Black, 6\" Glare-Free Touchscreen Display, Wi-Fi - Includes Special Offers',\n       'AmazonBasics USB 3.0 Cable - A-Male to B-Male - 6 Feet (1.8 Meters)',\n       'Two Door Top Load Pet Kennel Travel Crate Dog Cat Pet Cage Carrier Box Tray 23\"',\n       'Oem Amazon Kindle Power Usb Adapter Wall Travel Charger Fire/dx/+micro Usb Cable',\n       'AmazonBasics 16-Gauge Speaker Wire - 100 Feet',\n       'Amazon Echo (2nd Generation) Smart Assistant Oak Finish Priority Shipping',\n       'Kindle Voyage E-reader, 6 High-Resolution Display (300 ppi) with Adaptive Built-in Light, PagePress Sensors, Wi-Fi - Includes Special Offers',\n       'AmazonBasics Nespresso Pod Storage Drawer - 50 Capsule Capacity',\n       'Certified Refurbished Amazon Echo',\n       'All-new Echo (2nd Generation) with improved sound, powered by Dolby, and a new design Walnut Finish',\n       'All-New Fire HD 8 Tablet, 8 HD Display, Wi-Fi, 16 GB - Includes Special Offers, Black',\n       'Fire Kids Edition Tablet, 7 Display, Wi-Fi, 16 GB, Pink Kid-Proof Case',\n       'All-New Fire HD 8 Tablet, 8 HD Display, Wi-Fi, 32 GB - Includes Special Offers, Magenta',\n       'All-New Fire HD 8 Tablet, 8 HD Display, Wi-Fi, 32 GB - Includes Special Offers, Black',\n       'Kindle Oasis E-reader with Leather Charging Cover - Black, 6 High-Resolution Display (300 ppi), Wi-Fi - Includes Special Offers',\n       'Kindle Voyage E-reader, 6 High-Resolution Display (300 ppi) with Adaptive Built-in Light, PagePress Sensors, Free 3G + Wi-Fi - Includes Special Offers',\n       'All-New Fire 7 Tablet with Alexa, 7\" Display, 8 GB - Marine Blue',\n       'Fire Tablet, 7 Display, Wi-Fi, 16 GB - Includes Special Offers, Black',\n       'All-New Fire HD 8 Tablet, 8 HD Display, Wi-Fi, 16 GB - Includes Special Offers, Blue',\n       'All-New Fire HD 8 Tablet, 8 HD Display, Wi-Fi, 32 GB - Includes Special Offers, Blue',\n       'Kindle Oasis E-reader with Leather Charging Cover - Merlot, 6 High-Resolution Display (300 ppi), Wi-Fi - Includes Special Offers',\n       'Fire HD 10 Tablet, 10.1 HD Display, Wi-Fi, 16 GB - Includes Special Offers, Silver Aluminum',\n       'Amazon Fire HD 8 with Alexa (8\" HD Display Tablet)',\n       'AmazonBasics Single-Door Folding Metal Dog Crate - Large (42x28x30 Inches)',\n       'All-New Kindle Oasis E-reader - 7 High-Resolution Display (300 ppi), Waterproof, Built-In Audible, 32 GB, Wi-Fi + Free Cellular Connectivity',\n       'AmazonBasics Double-Door Folding Metal Dog Crate - Medium (36x23x25 Inches)',\n       'All-New Fire HD 8 Kids Edition Tablet, 8 HD Display, 32 GB, Pink Kid-Proof Case',\n       'All-New Fire HD 8 Kids Edition Tablet, 8 HD Display, 32 GB, Blue Kid-Proof Case',\n       'All-New Fire HD 8 Tablet with Alexa, 8 HD Display, 16 GB, Marine Blue - with Special Offers',\n       'All-New Fire HD 8 Tablet with Alexa, 8 HD Display, 32 GB, Marine Blue - with Special Offers',\n       'Fire Tablet with Alexa, 7 Display, 16 GB, Magenta - with Special Offers',\n       'Echo Dot (Previous generation)',\n       'Fire Tablet with Alexa, 7 Display, 16 GB, Blue - with Special Offers',\n       'Kindle Oasis E-reader with Leather Charging Cover - Walnut, 6 High-Resolution Display (300 ppi), Wi-Fi - Includes Special Offers',\n       'All-New Kindle Oasis E-reader - 7 High-Resolution Display (300 ppi), Waterproof, Built-In Audible, 8 GB, Wi-Fi - Includes Special Offers',\n       'Fire Kids Edition Tablet, 7 Display, Wi-Fi, 16 GB, Blue Kid-Proof Case',\n       'Fire HD 8 Tablet with Alexa, 8 HD Display, 32 GB, Tangerine - with Special Offers',\n       'Fire Kids Edition Tablet, 7 Display, Wi-Fi, 16 GB, Green Kid-Proof Case',\n       'Kindle E-reader - White, 6 Glare-Free Touchscreen Display, Wi-Fi - Includes Special Offers',\n       'Amazon Fire TV Gaming Edition Streaming Media Player',\n       'Certified Refurbished Amazon Fire TV with Alexa Voice Remote',\n       'All-New Kindle Oasis E-reader - 7 High-Resolution Display (300 ppi), Waterproof, Built-In Audible, 32 GB, Wi-Fi - Includes Special Offers',\n       'AmazonBasics Bluetooth Keyboard for Android Devices - Black',\n       'Amazon Kindle Replacement Power Adapter (Fits Latest Generation Kindle and Kindle DX) For shipment in the U.S only',\n       'Fire HD 8 Tablet with Alexa, 8 HD Display, 16 GB, Tangerine - with Special Offers'],\n      dtype=object)"
     },
     "execution_count": 19,
     "metadata": {},
     "output_type": "execute_result"
    }
   ],
   "source": [
    "df[\"name\"].unique()"
   ],
   "metadata": {
    "collapsed": false
   }
  },
  {
   "cell_type": "code",
   "execution_count": 28,
   "outputs": [
    {
     "data": {
      "text/plain": "ByAmazon Customer    889\nMike                  63\nByKindle Customer     45\nDave                  44\nChris                 38\n                    ... \nBysarah k              1\nByRobert Roussel       1\nByK Davis              1\nByDevin                1\nerockmon               1\nName: reviews.username, Length: 16269, dtype: int64"
     },
     "execution_count": 28,
     "metadata": {},
     "output_type": "execute_result"
    }
   ],
   "source": [
    "df[\"reviews.username\"].value_counts()"
   ],
   "metadata": {
    "collapsed": false
   }
  },
  {
   "cell_type": "code",
   "execution_count": null,
   "outputs": [],
   "source": [],
   "metadata": {
    "collapsed": false
   }
  }
 ],
 "metadata": {
  "kernelspec": {
   "display_name": "Python 3",
   "language": "python",
   "name": "python3"
  },
  "language_info": {
   "codemirror_mode": {
    "name": "ipython",
    "version": 2
   },
   "file_extension": ".py",
   "mimetype": "text/x-python",
   "name": "python",
   "nbconvert_exporter": "python",
   "pygments_lexer": "ipython2",
   "version": "2.7.6"
  }
 },
 "nbformat": 4,
 "nbformat_minor": 0
}
